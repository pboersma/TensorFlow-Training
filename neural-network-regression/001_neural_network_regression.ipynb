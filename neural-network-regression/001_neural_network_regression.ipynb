{
 "metadata": {
  "language_info": {
   "codemirror_mode": {
    "name": "ipython",
    "version": 3
   },
   "file_extension": ".py",
   "mimetype": "text/x-python",
   "name": "python",
   "nbconvert_exporter": "python",
   "pygments_lexer": "ipython3",
   "version": "3.8.2"
  },
  "orig_nbformat": 2,
  "kernelspec": {
   "name": "python382jvsc74a57bd031f2aee4e71d21fbe5cf8b01ff0e069b9275f58929596ceb00d14d90e3e16cd6",
   "display_name": "Python 3.8.2 64-bit"
  },
  "metadata": {
   "interpreter": {
    "hash": "31f2aee4e71d21fbe5cf8b01ff0e069b9275f58929596ceb00d14d90e3e16cd6"
   }
  }
 },
 "nbformat": 4,
 "nbformat_minor": 2,
 "cells": [
  {
   "source": [
    "# Introduction to Regression with Neural Networks"
   ],
   "cell_type": "markdown",
   "metadata": {}
  },
  {
   "cell_type": "code",
   "execution_count": 131,
   "metadata": {},
   "outputs": [
    {
     "output_type": "stream",
     "name": "stdout",
     "text": [
      "2.4.1\n"
     ]
    }
   ],
   "source": [
    "import tensorflow as tf\n",
    "\n",
    "print(tf.__version__)"
   ]
  },
  {
   "cell_type": "code",
   "execution_count": 132,
   "metadata": {},
   "outputs": [
    {
     "output_type": "execute_result",
     "data": {
      "text/plain": [
       "<matplotlib.collections.PathCollection at 0x14c0d83d0>"
      ]
     },
     "metadata": {},
     "execution_count": 132
    },
    {
     "output_type": "display_data",
     "data": {
      "text/plain": "<Figure size 432x288 with 1 Axes>",
      "image/svg+xml": "<?xml version=\"1.0\" encoding=\"utf-8\" standalone=\"no\"?>\n<!DOCTYPE svg PUBLIC \"-//W3C//DTD SVG 1.1//EN\"\n  \"http://www.w3.org/Graphics/SVG/1.1/DTD/svg11.dtd\">\n<svg height=\"251.846694pt\" version=\"1.1\" viewBox=\"0 0 374.562825 251.846694\" width=\"374.562825pt\" xmlns=\"http://www.w3.org/2000/svg\" xmlns:xlink=\"http://www.w3.org/1999/xlink\">\n <metadata>\n  <rdf:RDF xmlns:cc=\"http://creativecommons.org/ns#\" xmlns:dc=\"http://purl.org/dc/elements/1.1/\" xmlns:rdf=\"http://www.w3.org/1999/02/22-rdf-syntax-ns#\">\n   <cc:Work>\n    <dc:type rdf:resource=\"http://purl.org/dc/dcmitype/StillImage\"/>\n    <dc:date>2021-05-14T11:46:55.283056</dc:date>\n    <dc:format>image/svg+xml</dc:format>\n    <dc:creator>\n     <cc:Agent>\n      <dc:title>Matplotlib v3.4.2, https://matplotlib.org/</dc:title>\n     </cc:Agent>\n    </dc:creator>\n   </cc:Work>\n  </rdf:RDF>\n </metadata>\n <defs>\n  <style type=\"text/css\">*{stroke-linecap:butt;stroke-linejoin:round;}</style>\n </defs>\n <g id=\"figure_1\">\n  <g id=\"patch_1\">\n   <path d=\"M -0 251.846694 \nL 374.562825 251.846694 \nL 374.562825 0 \nL -0 0 \nz\n\" style=\"fill:none;\"/>\n  </g>\n  <g id=\"axes_1\">\n   <g id=\"patch_2\">\n    <path d=\"M 26.925 227.968569 \nL 361.725 227.968569 \nL 361.725 10.528569 \nL 26.925 10.528569 \nz\n\" style=\"fill:#ffffff;\"/>\n   </g>\n   <g id=\"PathCollection_1\">\n    <defs>\n     <path d=\"M 0 3 \nC 0.795609 3 1.55874 2.683901 2.12132 2.12132 \nC 2.683901 1.55874 3 0.795609 3 0 \nC 3 -0.795609 2.683901 -1.55874 2.12132 -2.12132 \nC 1.55874 -2.683901 0.795609 -3 0 -3 \nC -0.795609 -3 -1.55874 -2.683901 -2.12132 -2.12132 \nC -2.683901 -1.55874 -3 -0.795609 -3 0 \nC -3 0.795609 -2.683901 1.55874 -2.12132 2.12132 \nC -1.55874 2.683901 -0.795609 3 0 3 \nz\n\" id=\"m5ae96a7b26\" style=\"stroke:#1f77b4;\"/>\n    </defs>\n    <g clip-path=\"url(#pf99a8bcd57)\">\n     <use style=\"fill:#1f77b4;stroke:#1f77b4;\" x=\"42.143182\" xlink:href=\"#m5ae96a7b26\" y=\"218.084933\"/>\n     <use style=\"fill:#1f77b4;stroke:#1f77b4;\" x=\"85.623701\" xlink:href=\"#m5ae96a7b26\" y=\"189.845972\"/>\n     <use style=\"fill:#1f77b4;stroke:#1f77b4;\" x=\"129.104221\" xlink:href=\"#m5ae96a7b26\" y=\"161.607011\"/>\n     <use style=\"fill:#1f77b4;stroke:#1f77b4;\" x=\"172.58474\" xlink:href=\"#m5ae96a7b26\" y=\"133.36805\"/>\n     <use style=\"fill:#1f77b4;stroke:#1f77b4;\" x=\"216.06526\" xlink:href=\"#m5ae96a7b26\" y=\"105.129089\"/>\n     <use style=\"fill:#1f77b4;stroke:#1f77b4;\" x=\"259.545779\" xlink:href=\"#m5ae96a7b26\" y=\"76.890128\"/>\n     <use style=\"fill:#1f77b4;stroke:#1f77b4;\" x=\"303.026299\" xlink:href=\"#m5ae96a7b26\" y=\"48.651167\"/>\n     <use style=\"fill:#1f77b4;stroke:#1f77b4;\" x=\"346.506818\" xlink:href=\"#m5ae96a7b26\" y=\"20.412206\"/>\n    </g>\n   </g>\n   <g id=\"matplotlib.axis_1\">\n    <g id=\"xtick_1\">\n     <g id=\"line2d_1\">\n      <defs>\n       <path d=\"M 0 0 \nL 0 3.5 \n\" id=\"m13f34ee11d\" style=\"stroke:#000000;stroke-width:0.8;\"/>\n      </defs>\n      <g>\n       <use style=\"stroke:#000000;stroke-width:0.8;\" x=\"71.130195\" xlink:href=\"#m13f34ee11d\" y=\"227.968569\"/>\n      </g>\n     </g>\n     <g id=\"text_1\">\n      <!-- −5 -->\n      <g transform=\"translate(63.759101 242.567007)scale(0.1 -0.1)\">\n       <defs>\n        <path d=\"M 678 2272 \nL 4684 2272 \nL 4684 1741 \nL 678 1741 \nL 678 2272 \nz\n\" id=\"DejaVuSans-2212\" transform=\"scale(0.015625)\"/>\n        <path d=\"M 691 4666 \nL 3169 4666 \nL 3169 4134 \nL 1269 4134 \nL 1269 2991 \nQ 1406 3038 1543 3061 \nQ 1681 3084 1819 3084 \nQ 2600 3084 3056 2656 \nQ 3513 2228 3513 1497 \nQ 3513 744 3044 326 \nQ 2575 -91 1722 -91 \nQ 1428 -91 1123 -41 \nQ 819 9 494 109 \nL 494 744 \nQ 775 591 1075 516 \nQ 1375 441 1709 441 \nQ 2250 441 2565 725 \nQ 2881 1009 2881 1497 \nQ 2881 1984 2565 2268 \nQ 2250 2553 1709 2553 \nQ 1456 2553 1204 2497 \nQ 953 2441 691 2322 \nL 691 4666 \nz\n\" id=\"DejaVuSans-35\" transform=\"scale(0.015625)\"/>\n       </defs>\n       <use xlink:href=\"#DejaVuSans-2212\"/>\n       <use x=\"83.789062\" xlink:href=\"#DejaVuSans-35\"/>\n      </g>\n     </g>\n    </g>\n    <g id=\"xtick_2\">\n     <g id=\"line2d_2\">\n      <g>\n       <use style=\"stroke:#000000;stroke-width:0.8;\" x=\"143.597727\" xlink:href=\"#m13f34ee11d\" y=\"227.968569\"/>\n      </g>\n     </g>\n     <g id=\"text_2\">\n      <!-- 0 -->\n      <g transform=\"translate(140.416477 242.567007)scale(0.1 -0.1)\">\n       <defs>\n        <path d=\"M 2034 4250 \nQ 1547 4250 1301 3770 \nQ 1056 3291 1056 2328 \nQ 1056 1369 1301 889 \nQ 1547 409 2034 409 \nQ 2525 409 2770 889 \nQ 3016 1369 3016 2328 \nQ 3016 3291 2770 3770 \nQ 2525 4250 2034 4250 \nz\nM 2034 4750 \nQ 2819 4750 3233 4129 \nQ 3647 3509 3647 2328 \nQ 3647 1150 3233 529 \nQ 2819 -91 2034 -91 \nQ 1250 -91 836 529 \nQ 422 1150 422 2328 \nQ 422 3509 836 4129 \nQ 1250 4750 2034 4750 \nz\n\" id=\"DejaVuSans-30\" transform=\"scale(0.015625)\"/>\n       </defs>\n       <use xlink:href=\"#DejaVuSans-30\"/>\n      </g>\n     </g>\n    </g>\n    <g id=\"xtick_3\">\n     <g id=\"line2d_3\">\n      <g>\n       <use style=\"stroke:#000000;stroke-width:0.8;\" x=\"216.06526\" xlink:href=\"#m13f34ee11d\" y=\"227.968569\"/>\n      </g>\n     </g>\n     <g id=\"text_3\">\n      <!-- 5 -->\n      <g transform=\"translate(212.88401 242.567007)scale(0.1 -0.1)\">\n       <use xlink:href=\"#DejaVuSans-35\"/>\n      </g>\n     </g>\n    </g>\n    <g id=\"xtick_4\">\n     <g id=\"line2d_4\">\n      <g>\n       <use style=\"stroke:#000000;stroke-width:0.8;\" x=\"288.532792\" xlink:href=\"#m13f34ee11d\" y=\"227.968569\"/>\n      </g>\n     </g>\n     <g id=\"text_4\">\n      <!-- 10 -->\n      <g transform=\"translate(282.170292 242.567007)scale(0.1 -0.1)\">\n       <defs>\n        <path d=\"M 794 531 \nL 1825 531 \nL 1825 4091 \nL 703 3866 \nL 703 4441 \nL 1819 4666 \nL 2450 4666 \nL 2450 531 \nL 3481 531 \nL 3481 0 \nL 794 0 \nL 794 531 \nz\n\" id=\"DejaVuSans-31\" transform=\"scale(0.015625)\"/>\n       </defs>\n       <use xlink:href=\"#DejaVuSans-31\"/>\n       <use x=\"63.623047\" xlink:href=\"#DejaVuSans-30\"/>\n      </g>\n     </g>\n    </g>\n    <g id=\"xtick_5\">\n     <g id=\"line2d_5\">\n      <g>\n       <use style=\"stroke:#000000;stroke-width:0.8;\" x=\"361.000325\" xlink:href=\"#m13f34ee11d\" y=\"227.968569\"/>\n      </g>\n     </g>\n     <g id=\"text_5\">\n      <!-- 15 -->\n      <g transform=\"translate(354.637825 242.567007)scale(0.1 -0.1)\">\n       <use xlink:href=\"#DejaVuSans-31\"/>\n       <use x=\"63.623047\" xlink:href=\"#DejaVuSans-35\"/>\n      </g>\n     </g>\n    </g>\n   </g>\n   <g id=\"matplotlib.axis_2\">\n    <g id=\"ytick_1\">\n     <g id=\"line2d_6\">\n      <defs>\n       <path d=\"M 0 0 \nL -3.5 0 \n\" id=\"mca85a0dc6c\" style=\"stroke:#000000;stroke-width:0.8;\"/>\n      </defs>\n      <g>\n       <use style=\"stroke:#000000;stroke-width:0.8;\" x=\"26.925\" xlink:href=\"#mca85a0dc6c\" y=\"199.258959\"/>\n      </g>\n     </g>\n     <g id=\"text_6\">\n      <!-- 5 -->\n      <g transform=\"translate(13.5625 203.058178)scale(0.1 -0.1)\">\n       <use xlink:href=\"#DejaVuSans-35\"/>\n      </g>\n     </g>\n    </g>\n    <g id=\"ytick_2\">\n     <g id=\"line2d_7\">\n      <g>\n       <use style=\"stroke:#000000;stroke-width:0.8;\" x=\"26.925\" xlink:href=\"#mca85a0dc6c\" y=\"152.194024\"/>\n      </g>\n     </g>\n     <g id=\"text_7\">\n      <!-- 10 -->\n      <g transform=\"translate(7.2 155.993243)scale(0.1 -0.1)\">\n       <use xlink:href=\"#DejaVuSans-31\"/>\n       <use x=\"63.623047\" xlink:href=\"#DejaVuSans-30\"/>\n      </g>\n     </g>\n    </g>\n    <g id=\"ytick_3\">\n     <g id=\"line2d_8\">\n      <g>\n       <use style=\"stroke:#000000;stroke-width:0.8;\" x=\"26.925\" xlink:href=\"#mca85a0dc6c\" y=\"105.129089\"/>\n      </g>\n     </g>\n     <g id=\"text_8\">\n      <!-- 15 -->\n      <g transform=\"translate(7.2 108.928308)scale(0.1 -0.1)\">\n       <use xlink:href=\"#DejaVuSans-31\"/>\n       <use x=\"63.623047\" xlink:href=\"#DejaVuSans-35\"/>\n      </g>\n     </g>\n    </g>\n    <g id=\"ytick_4\">\n     <g id=\"line2d_9\">\n      <g>\n       <use style=\"stroke:#000000;stroke-width:0.8;\" x=\"26.925\" xlink:href=\"#mca85a0dc6c\" y=\"58.064154\"/>\n      </g>\n     </g>\n     <g id=\"text_9\">\n      <!-- 20 -->\n      <g transform=\"translate(7.2 61.863373)scale(0.1 -0.1)\">\n       <defs>\n        <path d=\"M 1228 531 \nL 3431 531 \nL 3431 0 \nL 469 0 \nL 469 531 \nQ 828 903 1448 1529 \nQ 2069 2156 2228 2338 \nQ 2531 2678 2651 2914 \nQ 2772 3150 2772 3378 \nQ 2772 3750 2511 3984 \nQ 2250 4219 1831 4219 \nQ 1534 4219 1204 4116 \nQ 875 4013 500 3803 \nL 500 4441 \nQ 881 4594 1212 4672 \nQ 1544 4750 1819 4750 \nQ 2544 4750 2975 4387 \nQ 3406 4025 3406 3419 \nQ 3406 3131 3298 2873 \nQ 3191 2616 2906 2266 \nQ 2828 2175 2409 1742 \nQ 1991 1309 1228 531 \nz\n\" id=\"DejaVuSans-32\" transform=\"scale(0.015625)\"/>\n       </defs>\n       <use xlink:href=\"#DejaVuSans-32\"/>\n       <use x=\"63.623047\" xlink:href=\"#DejaVuSans-30\"/>\n      </g>\n     </g>\n    </g>\n    <g id=\"ytick_5\">\n     <g id=\"line2d_10\">\n      <g>\n       <use style=\"stroke:#000000;stroke-width:0.8;\" x=\"26.925\" xlink:href=\"#mca85a0dc6c\" y=\"10.999219\"/>\n      </g>\n     </g>\n     <g id=\"text_10\">\n      <!-- 25 -->\n      <g transform=\"translate(7.2 14.798437)scale(0.1 -0.1)\">\n       <use xlink:href=\"#DejaVuSans-32\"/>\n       <use x=\"63.623047\" xlink:href=\"#DejaVuSans-35\"/>\n      </g>\n     </g>\n    </g>\n   </g>\n   <g id=\"patch_3\">\n    <path d=\"M 26.925 227.968569 \nL 26.925 10.528569 \n\" style=\"fill:none;stroke:#000000;stroke-linecap:square;stroke-linejoin:miter;stroke-width:0.8;\"/>\n   </g>\n   <g id=\"patch_4\">\n    <path d=\"M 361.725 227.968569 \nL 361.725 10.528569 \n\" style=\"fill:none;stroke:#000000;stroke-linecap:square;stroke-linejoin:miter;stroke-width:0.8;\"/>\n   </g>\n   <g id=\"patch_5\">\n    <path d=\"M 26.925 227.968569 \nL 361.725 227.968569 \n\" style=\"fill:none;stroke:#000000;stroke-linecap:square;stroke-linejoin:miter;stroke-width:0.8;\"/>\n   </g>\n   <g id=\"patch_6\">\n    <path d=\"M 26.925 10.528569 \nL 361.725 10.528569 \n\" style=\"fill:none;stroke:#000000;stroke-linecap:square;stroke-linejoin:miter;stroke-width:0.8;\"/>\n   </g>\n  </g>\n </g>\n <defs>\n  <clipPath id=\"pf99a8bcd57\">\n   <rect height=\"217.44\" width=\"334.8\" x=\"26.925\" y=\"10.528569\"/>\n  </clipPath>\n </defs>\n</svg>\n",
      "image/png": "[encoded data removed]"
     },
     "metadata": {
      "needs_background": "light"
     }
    }
   ],
   "source": [
    "# Creating Data to view and fit\n",
    "import numpy as np\n",
    "import matplotlib.pyplot as plt\n",
    "\n",
    "# Create features\n",
    "X = np.array([-7., -4., -1., 2., 5., 8., 11., 14.])\n",
    "\n",
    "# Create Labels\n",
    "y = np.array([3., 6., 9., 12., 15., 18., 21., 24.])\n",
    "\n",
    "# Visualize\n",
    "plt.scatter(X, y)"
   ]
  },
  {
   "source": [
    "## Input and Output shapes"
   ],
   "cell_type": "markdown",
   "metadata": {}
  },
  {
   "cell_type": "code",
   "execution_count": 133,
   "metadata": {},
   "outputs": [],
   "source": [
    "house_info = tf.constant([\"bedroom\", \"bathroom\", \"garage\"])\n",
    "house_price = tf.constant([939700])"
   ]
  },
  {
   "cell_type": "code",
   "execution_count": 134,
   "metadata": {},
   "outputs": [
    {
     "output_type": "execute_result",
     "data": {
      "text/plain": [
       "((8,), (8,))"
      ]
     },
     "metadata": {},
     "execution_count": 134
    }
   ],
   "source": [
    "input_shape = X.shape\n",
    "output_shape = y.shape\n",
    "\n",
    "input_shape, output_shape"
   ]
  },
  {
   "cell_type": "code",
   "execution_count": 135,
   "metadata": {},
   "outputs": [],
   "source": [
    "# Convert Numpy Arrays to Tensors\n",
    "X = tf.constant(X)\n",
    "y = tf.constant(y)"
   ]
  },
  {
   "source": [
    "## Steps in Modeling"
   ],
   "cell_type": "markdown",
   "metadata": {}
  },
  {
   "cell_type": "code",
   "execution_count": 136,
   "metadata": {},
   "outputs": [
    {
     "output_type": "stream",
     "name": "stdout",
     "text": [
      "Epoch 1/5\n",
      "1/1 [==============================] - 1s 777ms/step - loss: 11.5048 - mae: 11.5048\n",
      "Epoch 2/5\n",
      "1/1 [==============================] - 0s 8ms/step - loss: 11.3723 - mae: 11.3723\n",
      "Epoch 3/5\n",
      "1/1 [==============================] - 0s 4ms/step - loss: 11.2398 - mae: 11.2398\n",
      "Epoch 4/5\n",
      "1/1 [==============================] - 0s 6ms/step - loss: 11.1073 - mae: 11.1073\n",
      "Epoch 5/5\n",
      "1/1 [==============================] - 0s 7ms/step - loss: 10.9748 - mae: 10.9748\n"
     ]
    },
    {
     "output_type": "execute_result",
     "data": {
      "text/plain": [
       "<tensorflow.python.keras.callbacks.History at 0x14b1d0340>"
      ]
     },
     "metadata": {},
     "execution_count": 136
    }
   ],
   "source": [
    "# Set Random seed\n",
    "tf.random.set_seed(42)\n",
    "\n",
    "# 1. Create a model using the Sequential API.\n",
    "model = tf.keras.Sequential([\n",
    "    tf.keras.layers.Dense(1)\n",
    "])\n",
    "\n",
    "# 2. Compile the Model\n",
    "model.compile(loss=tf.keras.losses.mae, # MEA = Mean Absolute Error\n",
    "              optimizer=tf.keras.optimizers.SGD(),\n",
    "              metrics=[\"mae\"])\n",
    "\n",
    "# 3. Fit the model\n",
    "model.fit(X, y, epochs=5)"
   ]
  },
  {
   "cell_type": "code",
   "execution_count": 137,
   "metadata": {},
   "outputs": [
    {
     "output_type": "stream",
     "name": "stdout",
     "text": [
      "WARNING:tensorflow:6 out of the last 11 calls to <function Model.make_predict_function.<locals>.predict_function at 0x14ad435e0> triggered tf.function retracing. Tracing is expensive and the excessive number of tracings could be due to (1) creating @tf.function repeatedly in a loop, (2) passing tensors with different shapes, (3) passing Python objects instead of tensors. For (1), please define your @tf.function outside of the loop. For (2), @tf.function has experimental_relax_shapes=True option that relaxes argument shapes that can avoid unnecessary retracing. For (3), please refer to https://www.tensorflow.org/guide/function#controlling_retracing and https://www.tensorflow.org/api_docs/python/tf/function for  more details.\n"
     ]
    },
    {
     "output_type": "execute_result",
     "data": {
      "text/plain": [
       "array([[12.716021]], dtype=float32)"
      ]
     },
     "metadata": {},
     "execution_count": 137
    }
   ],
   "source": [
    "# Do a prediction with our trained model.\n",
    "y_pred = model.predict([17.])\n",
    "y_pred"
   ]
  },
  {
   "source": [
    "## Improving the model"
   ],
   "cell_type": "markdown",
   "metadata": {}
  },
  {
   "cell_type": "code",
   "execution_count": 138,
   "metadata": {},
   "outputs": [
    {
     "output_type": "stream",
     "name": "stdout",
     "text": [
      "Epoch 1/100\n",
      "1/1 [==============================] - 1s 642ms/step - loss: 14.6466 - mae: 14.6466\n",
      "Epoch 2/100\n",
      "1/1 [==============================] - 0s 16ms/step - loss: 13.9532 - mae: 13.9532\n",
      "Epoch 3/100\n",
      "1/1 [==============================] - 0s 23ms/step - loss: 13.2603 - mae: 13.2603\n",
      "Epoch 4/100\n",
      "1/1 [==============================] - 0s 11ms/step - loss: 12.5659 - mae: 12.5659\n",
      "Epoch 5/100\n",
      "1/1 [==============================] - 0s 27ms/step - loss: 11.8675 - mae: 11.8675\n",
      "Epoch 6/100\n",
      "1/1 [==============================] - 0s 12ms/step - loss: 11.1621 - mae: 11.1621\n",
      "Epoch 7/100\n",
      "1/1 [==============================] - 0s 8ms/step - loss: 10.4475 - mae: 10.4475\n",
      "Epoch 8/100\n",
      "1/1 [==============================] - 0s 2ms/step - loss: 9.7214 - mae: 9.7214\n",
      "Epoch 9/100\n",
      "1/1 [==============================] - 0s 2ms/step - loss: 8.9817 - mae: 8.9817\n",
      "Epoch 10/100\n",
      "1/1 [==============================] - 0s 3ms/step - loss: 8.2262 - mae: 8.2262\n",
      "Epoch 11/100\n",
      "1/1 [==============================] - 0s 9ms/step - loss: 7.4526 - mae: 7.4526\n",
      "Epoch 12/100\n",
      "1/1 [==============================] - 0s 13ms/step - loss: 6.6585 - mae: 6.6585\n",
      "Epoch 13/100\n",
      "1/1 [==============================] - 0s 17ms/step - loss: 6.6244 - mae: 6.6244\n",
      "Epoch 14/100\n",
      "1/1 [==============================] - 0s 3ms/step - loss: 6.9777 - mae: 6.9777\n",
      "Epoch 15/100\n",
      "1/1 [==============================] - 0s 2ms/step - loss: 7.2653 - mae: 7.2653\n",
      "Epoch 16/100\n",
      "1/1 [==============================] - 0s 8ms/step - loss: 7.4820 - mae: 7.4820\n",
      "Epoch 17/100\n",
      "1/1 [==============================] - 0s 21ms/step - loss: 7.4879 - mae: 7.4879\n",
      "Epoch 18/100\n",
      "1/1 [==============================] - 0s 11ms/step - loss: 7.3301 - mae: 7.3301\n",
      "Epoch 19/100\n",
      "1/1 [==============================] - 0s 10ms/step - loss: 7.0454 - mae: 7.0454\n",
      "Epoch 20/100\n",
      "1/1 [==============================] - 0s 5ms/step - loss: 6.7251 - mae: 6.7251\n",
      "Epoch 21/100\n",
      "1/1 [==============================] - 0s 15ms/step - loss: 6.4643 - mae: 6.4643\n",
      "Epoch 22/100\n",
      "1/1 [==============================] - 0s 8ms/step - loss: 6.1900 - mae: 6.1900\n",
      "Epoch 23/100\n",
      "1/1 [==============================] - 0s 8ms/step - loss: 5.9246 - mae: 5.9246\n",
      "Epoch 24/100\n",
      "1/1 [==============================] - 0s 12ms/step - loss: 5.8782 - mae: 5.8782\n",
      "Epoch 25/100\n",
      "1/1 [==============================] - 0s 9ms/step - loss: 5.8276 - mae: 5.8276\n",
      "Epoch 26/100\n",
      "1/1 [==============================] - 0s 11ms/step - loss: 5.9724 - mae: 5.9724\n",
      "Epoch 27/100\n",
      "1/1 [==============================] - 0s 14ms/step - loss: 6.0130 - mae: 6.0130\n",
      "Epoch 28/100\n",
      "1/1 [==============================] - 0s 10ms/step - loss: 5.9583 - mae: 5.9583\n",
      "Epoch 29/100\n",
      "1/1 [==============================] - 0s 22ms/step - loss: 5.8190 - mae: 5.8190\n",
      "Epoch 30/100\n",
      "1/1 [==============================] - 0s 15ms/step - loss: 5.6030 - mae: 5.6030\n",
      "Epoch 31/100\n",
      "1/1 [==============================] - 0s 18ms/step - loss: 5.3433 - mae: 5.3433\n",
      "Epoch 32/100\n",
      "1/1 [==============================] - 0s 11ms/step - loss: 5.2352 - mae: 5.2352\n",
      "Epoch 33/100\n",
      "1/1 [==============================] - 0s 5ms/step - loss: 5.1239 - mae: 5.1239\n",
      "Epoch 34/100\n",
      "1/1 [==============================] - 0s 4ms/step - loss: 5.0746 - mae: 5.0746\n",
      "Epoch 35/100\n",
      "1/1 [==============================] - 0s 4ms/step - loss: 5.0523 - mae: 5.0523\n",
      "Epoch 36/100\n",
      "1/1 [==============================] - 0s 7ms/step - loss: 4.9871 - mae: 4.9871\n",
      "Epoch 37/100\n",
      "1/1 [==============================] - 0s 5ms/step - loss: 4.8824 - mae: 4.8824\n",
      "Epoch 38/100\n",
      "1/1 [==============================] - 0s 8ms/step - loss: 4.7409 - mae: 4.7409\n",
      "Epoch 39/100\n",
      "1/1 [==============================] - 0s 5ms/step - loss: 4.5658 - mae: 4.5658\n",
      "Epoch 40/100\n",
      "1/1 [==============================] - 0s 9ms/step - loss: 4.4020 - mae: 4.4020\n",
      "Epoch 41/100\n",
      "1/1 [==============================] - 0s 5ms/step - loss: 4.3009 - mae: 4.3009\n",
      "Epoch 42/100\n",
      "1/1 [==============================] - 0s 6ms/step - loss: 4.1923 - mae: 4.1923\n",
      "Epoch 43/100\n",
      "1/1 [==============================] - 0s 4ms/step - loss: 4.0760 - mae: 4.0760\n",
      "Epoch 44/100\n",
      "1/1 [==============================] - 0s 5ms/step - loss: 4.0086 - mae: 4.0086\n",
      "Epoch 45/100\n",
      "1/1 [==============================] - 0s 6ms/step - loss: 3.8364 - mae: 3.8364\n",
      "Epoch 46/100\n",
      "1/1 [==============================] - 0s 7ms/step - loss: 3.6514 - mae: 3.6514\n",
      "Epoch 47/100\n",
      "1/1 [==============================] - 0s 9ms/step - loss: 3.4858 - mae: 3.4858\n",
      "Epoch 48/100\n",
      "1/1 [==============================] - 0s 16ms/step - loss: 3.3568 - mae: 3.3568\n",
      "Epoch 49/100\n",
      "1/1 [==============================] - 0s 15ms/step - loss: 3.2428 - mae: 3.2428\n",
      "Epoch 50/100\n",
      "1/1 [==============================] - 0s 9ms/step - loss: 3.0760 - mae: 3.0760\n",
      "Epoch 51/100\n",
      "1/1 [==============================] - 0s 8ms/step - loss: 2.8591 - mae: 2.8591\n",
      "Epoch 52/100\n",
      "1/1 [==============================] - 0s 21ms/step - loss: 2.6501 - mae: 2.6501\n",
      "Epoch 53/100\n",
      "1/1 [==============================] - 0s 39ms/step - loss: 2.4760 - mae: 2.4760\n",
      "Epoch 54/100\n",
      "1/1 [==============================] - 0s 15ms/step - loss: 2.3457 - mae: 2.3457\n",
      "Epoch 55/100\n",
      "1/1 [==============================] - 0s 9ms/step - loss: 2.1065 - mae: 2.1065\n",
      "Epoch 56/100\n",
      "1/1 [==============================] - 0s 4ms/step - loss: 1.8523 - mae: 1.8523\n",
      "Epoch 57/100\n",
      "1/1 [==============================] - 0s 8ms/step - loss: 1.7208 - mae: 1.7208\n",
      "Epoch 58/100\n",
      "1/1 [==============================] - 0s 3ms/step - loss: 1.5507 - mae: 1.5507\n",
      "Epoch 59/100\n",
      "1/1 [==============================] - 0s 5ms/step - loss: 1.2700 - mae: 1.2700\n",
      "Epoch 60/100\n",
      "1/1 [==============================] - 0s 4ms/step - loss: 0.9323 - mae: 0.9323\n",
      "Epoch 61/100\n",
      "1/1 [==============================] - 0s 5ms/step - loss: 0.8599 - mae: 0.8599\n",
      "Epoch 62/100\n",
      "1/1 [==============================] - 0s 4ms/step - loss: 0.6865 - mae: 0.6865\n",
      "Epoch 63/100\n",
      "1/1 [==============================] - 0s 6ms/step - loss: 0.3405 - mae: 0.3405\n",
      "Epoch 64/100\n",
      "1/1 [==============================] - 0s 4ms/step - loss: 0.1659 - mae: 0.1659\n",
      "Epoch 65/100\n",
      "1/1 [==============================] - 0s 6ms/step - loss: 0.4224 - mae: 0.4224\n",
      "Epoch 66/100\n",
      "1/1 [==============================] - 0s 8ms/step - loss: 0.4802 - mae: 0.4802\n",
      "Epoch 67/100\n",
      "1/1 [==============================] - 0s 5ms/step - loss: 0.6473 - mae: 0.6473\n",
      "Epoch 68/100\n",
      "1/1 [==============================] - 0s 4ms/step - loss: 0.6601 - mae: 0.6601\n",
      "Epoch 69/100\n",
      "1/1 [==============================] - 0s 5ms/step - loss: 0.7372 - mae: 0.7372\n",
      "Epoch 70/100\n",
      "1/1 [==============================] - 0s 4ms/step - loss: 0.7022 - mae: 0.7022\n",
      "Epoch 71/100\n",
      "1/1 [==============================] - 0s 7ms/step - loss: 0.6318 - mae: 0.6318\n",
      "Epoch 72/100\n",
      "1/1 [==============================] - 0s 4ms/step - loss: 0.6151 - mae: 0.6151\n",
      "Epoch 73/100\n",
      "1/1 [==============================] - 0s 5ms/step - loss: 0.4329 - mae: 0.4329\n",
      "Epoch 74/100\n",
      "1/1 [==============================] - 0s 4ms/step - loss: 0.4277 - mae: 0.4277\n",
      "Epoch 75/100\n",
      "1/1 [==============================] - 0s 3ms/step - loss: 0.3097 - mae: 0.3097\n",
      "Epoch 76/100\n",
      "1/1 [==============================] - 0s 5ms/step - loss: 0.0356 - mae: 0.0356\n",
      "Epoch 77/100\n",
      "1/1 [==============================] - 0s 5ms/step - loss: 0.4880 - mae: 0.4880\n",
      "Epoch 78/100\n",
      "1/1 [==============================] - 0s 4ms/step - loss: 0.6479 - mae: 0.6479\n",
      "Epoch 79/100\n",
      "1/1 [==============================] - 0s 4ms/step - loss: 0.6174 - mae: 0.6174\n",
      "Epoch 80/100\n",
      "1/1 [==============================] - 0s 4ms/step - loss: 0.4529 - mae: 0.4529\n",
      "Epoch 81/100\n",
      "1/1 [==============================] - 0s 6ms/step - loss: 0.6294 - mae: 0.6294\n",
      "Epoch 82/100\n",
      "1/1 [==============================] - 0s 7ms/step - loss: 0.7850 - mae: 0.7850\n",
      "Epoch 83/100\n",
      "1/1 [==============================] - 0s 4ms/step - loss: 0.6653 - mae: 0.6653\n",
      "Epoch 84/100\n",
      "1/1 [==============================] - 0s 6ms/step - loss: 0.3935 - mae: 0.3935\n",
      "Epoch 85/100\n",
      "1/1 [==============================] - 0s 3ms/step - loss: 0.5590 - mae: 0.5590\n",
      "Epoch 86/100\n",
      "1/1 [==============================] - 0s 5ms/step - loss: 0.6263 - mae: 0.6263\n",
      "Epoch 87/100\n",
      "1/1 [==============================] - 0s 14ms/step - loss: 0.5316 - mae: 0.5316\n",
      "Epoch 88/100\n",
      "1/1 [==============================] - 0s 4ms/step - loss: 0.2161 - mae: 0.2161\n",
      "Epoch 89/100\n",
      "1/1 [==============================] - 0s 6ms/step - loss: 0.3441 - mae: 0.3441\n",
      "Epoch 90/100\n",
      "1/1 [==============================] - 0s 14ms/step - loss: 0.5325 - mae: 0.5325\n",
      "Epoch 91/100\n",
      "1/1 [==============================] - 0s 13ms/step - loss: 0.4389 - mae: 0.4389\n",
      "Epoch 92/100\n",
      "1/1 [==============================] - 0s 14ms/step - loss: 0.2560 - mae: 0.2560\n",
      "Epoch 93/100\n",
      "1/1 [==============================] - 0s 4ms/step - loss: 0.5795 - mae: 0.5795\n",
      "Epoch 94/100\n",
      "1/1 [==============================] - 0s 9ms/step - loss: 0.7585 - mae: 0.7585\n",
      "Epoch 95/100\n",
      "1/1 [==============================] - 0s 5ms/step - loss: 0.6773 - mae: 0.6773\n",
      "Epoch 96/100\n",
      "1/1 [==============================] - 0s 7ms/step - loss: 0.3691 - mae: 0.3691\n",
      "Epoch 97/100\n",
      "1/1 [==============================] - 0s 6ms/step - loss: 0.3135 - mae: 0.3135\n",
      "Epoch 98/100\n",
      "1/1 [==============================] - 0s 4ms/step - loss: 0.5528 - mae: 0.5528\n",
      "Epoch 99/100\n",
      "1/1 [==============================] - 0s 6ms/step - loss: 0.5451 - mae: 0.5451\n",
      "Epoch 100/100\n",
      "1/1 [==============================] - 0s 7ms/step - loss: 0.2902 - mae: 0.2902\n"
     ]
    },
    {
     "output_type": "execute_result",
     "data": {
      "text/plain": [
       "<tensorflow.python.keras.callbacks.History at 0x1497e4d30>"
      ]
     },
     "metadata": {},
     "execution_count": 138
    }
   ],
   "source": [
    "# 1. Create a model using the Sequential API.\n",
    "model = tf.keras.Sequential([\n",
    "    tf.keras.layers.Dense(50),\n",
    "    # tf.keras.layers.Dense(100, activation=\"relu\"),\n",
    "    # tf.keras.layers.Dense(100, activation=\"relu\"),\n",
    "    tf.keras.layers.Dense(1)\n",
    "])\n",
    "\n",
    "# 2. Compile the Model\n",
    "model.compile(loss=tf.keras.losses.mae, # MEA = Mean Absolute Error\n",
    "              optimizer=tf.keras.optimizers.Adam(lr=0.01),\n",
    "              metrics=[\"mae\"])\n",
    "\n",
    "# 3. Fit the model\n",
    "model.fit(X, y, epochs=100)"
   ]
  },
  {
   "cell_type": "code",
   "execution_count": 139,
   "metadata": {},
   "outputs": [
    {
     "output_type": "stream",
     "name": "stdout",
     "text": [
      "WARNING:tensorflow:7 out of the last 12 calls to <function Model.make_predict_function.<locals>.predict_function at 0x14ad641f0> triggered tf.function retracing. Tracing is expensive and the excessive number of tracings could be due to (1) creating @tf.function repeatedly in a loop, (2) passing tensors with different shapes, (3) passing Python objects instead of tensors. For (1), please define your @tf.function outside of the loop. For (2), @tf.function has experimental_relax_shapes=True option that relaxes argument shapes that can avoid unnecessary retracing. For (3), please refer to https://www.tensorflow.org/guide/function#controlling_retracing and https://www.tensorflow.org/api_docs/python/tf/function for  more details.\n"
     ]
    },
    {
     "output_type": "execute_result",
     "data": {
      "text/plain": [
       "array([[26.434414]], dtype=float32)"
      ]
     },
     "metadata": {},
     "execution_count": 139
    }
   ],
   "source": [
    "model.predict([17.0])"
   ]
  },
  {
   "source": [
    "## Evaluating a model"
   ],
   "cell_type": "markdown",
   "metadata": {}
  },
  {
   "cell_type": "code",
   "execution_count": 140,
   "metadata": {},
   "outputs": [
    {
     "output_type": "display_data",
     "data": {
      "text/plain": "<Figure size 432x288 with 1 Axes>",
      "image/svg+xml": "<?xml version=\"1.0\" encoding=\"utf-8\" standalone=\"no\"?>\n<!DOCTYPE svg PUBLIC \"-//W3C//DTD SVG 1.1//EN\"\n  \"http://www.w3.org/Graphics/SVG/1.1/DTD/svg11.dtd\">\n<svg height=\"248.518125pt\" version=\"1.1\" viewBox=\"0 0 377.841758 248.518125\" width=\"377.841758pt\" xmlns=\"http://www.w3.org/2000/svg\" xmlns:xlink=\"http://www.w3.org/1999/xlink\">\n <metadata>\n  <rdf:RDF xmlns:cc=\"http://creativecommons.org/ns#\" xmlns:dc=\"http://purl.org/dc/elements/1.1/\" xmlns:rdf=\"http://www.w3.org/1999/02/22-rdf-syntax-ns#\">\n   <cc:Work>\n    <dc:type rdf:resource=\"http://purl.org/dc/dcmitype/StillImage\"/>\n    <dc:date>2021-05-14T11:47:00.813592</dc:date>\n    <dc:format>image/svg+xml</dc:format>\n    <dc:creator>\n     <cc:Agent>\n      <dc:title>Matplotlib v3.4.2, https://matplotlib.org/</dc:title>\n     </cc:Agent>\n    </dc:creator>\n   </cc:Work>\n  </rdf:RDF>\n </metadata>\n <defs>\n  <style type=\"text/css\">*{stroke-linecap:butt;stroke-linejoin:round;}</style>\n </defs>\n <g id=\"figure_1\">\n  <g id=\"patch_1\">\n   <path d=\"M 0 248.518125 \nL 377.841758 248.518125 \nL 377.841758 0 \nL 0 0 \nz\n\" style=\"fill:none;\"/>\n  </g>\n  <g id=\"axes_1\">\n   <g id=\"patch_2\">\n    <path d=\"M 35.304688 224.64 \nL 370.104688 224.64 \nL 370.104688 7.2 \nL 35.304688 7.2 \nz\n\" style=\"fill:#ffffff;\"/>\n   </g>\n   <g id=\"PathCollection_1\">\n    <defs>\n     <path d=\"M 0 3 \nC 0.795609 3 1.55874 2.683901 2.12132 2.12132 \nC 2.683901 1.55874 3 0.795609 3 0 \nC 3 -0.795609 2.683901 -1.55874 2.12132 -2.12132 \nC 1.55874 -2.683901 0.795609 -3 0 -3 \nC -0.795609 -3 -1.55874 -2.683901 -2.12132 -2.12132 \nC -2.683901 -1.55874 -3 -0.795609 -3 0 \nC -3 0.795609 -2.683901 1.55874 -2.12132 2.12132 \nC -1.55874 2.683901 -0.795609 3 0 3 \nz\n\" id=\"md4f8b3e47e\" style=\"stroke:#1f77b4;\"/>\n    </defs>\n    <g clip-path=\"url(#pb3a834340c)\">\n     <use style=\"fill:#1f77b4;stroke:#1f77b4;\" x=\"50.522869\" xlink:href=\"#md4f8b3e47e\" y=\"214.756364\"/>\n     <use style=\"fill:#1f77b4;stroke:#1f77b4;\" x=\"56.734372\" xlink:href=\"#md4f8b3e47e\" y=\"210.722226\"/>\n     <use style=\"fill:#1f77b4;stroke:#1f77b4;\" x=\"62.945875\" xlink:href=\"#md4f8b3e47e\" y=\"206.688089\"/>\n     <use style=\"fill:#1f77b4;stroke:#1f77b4;\" x=\"69.157378\" xlink:href=\"#md4f8b3e47e\" y=\"202.653952\"/>\n     <use style=\"fill:#1f77b4;stroke:#1f77b4;\" x=\"75.36888\" xlink:href=\"#md4f8b3e47e\" y=\"198.619814\"/>\n     <use style=\"fill:#1f77b4;stroke:#1f77b4;\" x=\"81.580383\" xlink:href=\"#md4f8b3e47e\" y=\"194.585677\"/>\n     <use style=\"fill:#1f77b4;stroke:#1f77b4;\" x=\"87.791886\" xlink:href=\"#md4f8b3e47e\" y=\"190.55154\"/>\n     <use style=\"fill:#1f77b4;stroke:#1f77b4;\" x=\"94.003389\" xlink:href=\"#md4f8b3e47e\" y=\"186.517403\"/>\n     <use style=\"fill:#1f77b4;stroke:#1f77b4;\" x=\"100.214892\" xlink:href=\"#md4f8b3e47e\" y=\"182.483265\"/>\n     <use style=\"fill:#1f77b4;stroke:#1f77b4;\" x=\"106.426394\" xlink:href=\"#md4f8b3e47e\" y=\"178.449128\"/>\n     <use style=\"fill:#1f77b4;stroke:#1f77b4;\" x=\"112.637897\" xlink:href=\"#md4f8b3e47e\" y=\"174.414991\"/>\n     <use style=\"fill:#1f77b4;stroke:#1f77b4;\" x=\"118.8494\" xlink:href=\"#md4f8b3e47e\" y=\"170.380853\"/>\n     <use style=\"fill:#1f77b4;stroke:#1f77b4;\" x=\"125.060903\" xlink:href=\"#md4f8b3e47e\" y=\"166.346716\"/>\n     <use style=\"fill:#1f77b4;stroke:#1f77b4;\" x=\"131.272405\" xlink:href=\"#md4f8b3e47e\" y=\"162.312579\"/>\n     <use style=\"fill:#1f77b4;stroke:#1f77b4;\" x=\"137.483908\" xlink:href=\"#md4f8b3e47e\" y=\"158.278442\"/>\n     <use style=\"fill:#1f77b4;stroke:#1f77b4;\" x=\"143.695411\" xlink:href=\"#md4f8b3e47e\" y=\"154.244304\"/>\n     <use style=\"fill:#1f77b4;stroke:#1f77b4;\" x=\"149.906914\" xlink:href=\"#md4f8b3e47e\" y=\"150.210167\"/>\n     <use style=\"fill:#1f77b4;stroke:#1f77b4;\" x=\"156.118417\" xlink:href=\"#md4f8b3e47e\" y=\"146.17603\"/>\n     <use style=\"fill:#1f77b4;stroke:#1f77b4;\" x=\"162.329919\" xlink:href=\"#md4f8b3e47e\" y=\"142.141892\"/>\n     <use style=\"fill:#1f77b4;stroke:#1f77b4;\" x=\"168.541422\" xlink:href=\"#md4f8b3e47e\" y=\"138.107755\"/>\n     <use style=\"fill:#1f77b4;stroke:#1f77b4;\" x=\"174.752925\" xlink:href=\"#md4f8b3e47e\" y=\"134.073618\"/>\n     <use style=\"fill:#1f77b4;stroke:#1f77b4;\" x=\"180.964428\" xlink:href=\"#md4f8b3e47e\" y=\"130.039481\"/>\n     <use style=\"fill:#1f77b4;stroke:#1f77b4;\" x=\"187.175931\" xlink:href=\"#md4f8b3e47e\" y=\"126.005343\"/>\n     <use style=\"fill:#1f77b4;stroke:#1f77b4;\" x=\"193.387433\" xlink:href=\"#md4f8b3e47e\" y=\"121.971206\"/>\n     <use style=\"fill:#1f77b4;stroke:#1f77b4;\" x=\"199.598936\" xlink:href=\"#md4f8b3e47e\" y=\"117.937069\"/>\n     <use style=\"fill:#1f77b4;stroke:#1f77b4;\" x=\"205.810439\" xlink:href=\"#md4f8b3e47e\" y=\"113.902931\"/>\n     <use style=\"fill:#1f77b4;stroke:#1f77b4;\" x=\"212.021942\" xlink:href=\"#md4f8b3e47e\" y=\"109.868794\"/>\n     <use style=\"fill:#1f77b4;stroke:#1f77b4;\" x=\"218.233444\" xlink:href=\"#md4f8b3e47e\" y=\"105.834657\"/>\n     <use style=\"fill:#1f77b4;stroke:#1f77b4;\" x=\"224.444947\" xlink:href=\"#md4f8b3e47e\" y=\"101.800519\"/>\n     <use style=\"fill:#1f77b4;stroke:#1f77b4;\" x=\"230.65645\" xlink:href=\"#md4f8b3e47e\" y=\"97.766382\"/>\n     <use style=\"fill:#1f77b4;stroke:#1f77b4;\" x=\"236.867953\" xlink:href=\"#md4f8b3e47e\" y=\"93.732245\"/>\n     <use style=\"fill:#1f77b4;stroke:#1f77b4;\" x=\"243.079456\" xlink:href=\"#md4f8b3e47e\" y=\"89.698108\"/>\n     <use style=\"fill:#1f77b4;stroke:#1f77b4;\" x=\"249.290958\" xlink:href=\"#md4f8b3e47e\" y=\"85.66397\"/>\n     <use style=\"fill:#1f77b4;stroke:#1f77b4;\" x=\"255.502461\" xlink:href=\"#md4f8b3e47e\" y=\"81.629833\"/>\n     <use style=\"fill:#1f77b4;stroke:#1f77b4;\" x=\"261.713964\" xlink:href=\"#md4f8b3e47e\" y=\"77.595696\"/>\n     <use style=\"fill:#1f77b4;stroke:#1f77b4;\" x=\"267.925467\" xlink:href=\"#md4f8b3e47e\" y=\"73.561558\"/>\n     <use style=\"fill:#1f77b4;stroke:#1f77b4;\" x=\"274.13697\" xlink:href=\"#md4f8b3e47e\" y=\"69.527421\"/>\n     <use style=\"fill:#1f77b4;stroke:#1f77b4;\" x=\"280.348472\" xlink:href=\"#md4f8b3e47e\" y=\"65.493284\"/>\n     <use style=\"fill:#1f77b4;stroke:#1f77b4;\" x=\"286.559975\" xlink:href=\"#md4f8b3e47e\" y=\"61.459147\"/>\n     <use style=\"fill:#1f77b4;stroke:#1f77b4;\" x=\"292.771478\" xlink:href=\"#md4f8b3e47e\" y=\"57.425009\"/>\n     <use style=\"fill:#1f77b4;stroke:#1f77b4;\" x=\"298.982981\" xlink:href=\"#md4f8b3e47e\" y=\"53.390872\"/>\n     <use style=\"fill:#1f77b4;stroke:#1f77b4;\" x=\"305.194483\" xlink:href=\"#md4f8b3e47e\" y=\"49.356735\"/>\n     <use style=\"fill:#1f77b4;stroke:#1f77b4;\" x=\"311.405986\" xlink:href=\"#md4f8b3e47e\" y=\"45.322597\"/>\n     <use style=\"fill:#1f77b4;stroke:#1f77b4;\" x=\"317.617489\" xlink:href=\"#md4f8b3e47e\" y=\"41.28846\"/>\n     <use style=\"fill:#1f77b4;stroke:#1f77b4;\" x=\"323.828992\" xlink:href=\"#md4f8b3e47e\" y=\"37.254323\"/>\n     <use style=\"fill:#1f77b4;stroke:#1f77b4;\" x=\"330.040495\" xlink:href=\"#md4f8b3e47e\" y=\"33.220186\"/>\n     <use style=\"fill:#1f77b4;stroke:#1f77b4;\" x=\"336.251997\" xlink:href=\"#md4f8b3e47e\" y=\"29.186048\"/>\n     <use style=\"fill:#1f77b4;stroke:#1f77b4;\" x=\"342.4635\" xlink:href=\"#md4f8b3e47e\" y=\"25.151911\"/>\n     <use style=\"fill:#1f77b4;stroke:#1f77b4;\" x=\"348.675003\" xlink:href=\"#md4f8b3e47e\" y=\"21.117774\"/>\n     <use style=\"fill:#1f77b4;stroke:#1f77b4;\" x=\"354.886506\" xlink:href=\"#md4f8b3e47e\" y=\"17.083636\"/>\n    </g>\n   </g>\n   <g id=\"matplotlib.axis_1\">\n    <g id=\"xtick_1\">\n     <g id=\"line2d_1\">\n      <defs>\n       <path d=\"M 0 0 \nL 0 3.5 \n\" id=\"m28f23ed902\" style=\"stroke:#000000;stroke-width:0.8;\"/>\n      </defs>\n      <g>\n       <use style=\"stroke:#000000;stroke-width:0.8;\" x=\"50.522869\" xlink:href=\"#m28f23ed902\" y=\"224.64\"/>\n      </g>\n     </g>\n     <g id=\"text_1\">\n      <!-- −100 -->\n      <g transform=\"translate(36.789276 239.238437)scale(0.1 -0.1)\">\n       <defs>\n        <path d=\"M 678 2272 \nL 4684 2272 \nL 4684 1741 \nL 678 1741 \nL 678 2272 \nz\n\" id=\"DejaVuSans-2212\" transform=\"scale(0.015625)\"/>\n        <path d=\"M 794 531 \nL 1825 531 \nL 1825 4091 \nL 703 3866 \nL 703 4441 \nL 1819 4666 \nL 2450 4666 \nL 2450 531 \nL 3481 531 \nL 3481 0 \nL 794 0 \nL 794 531 \nz\n\" id=\"DejaVuSans-31\" transform=\"scale(0.015625)\"/>\n        <path d=\"M 2034 4250 \nQ 1547 4250 1301 3770 \nQ 1056 3291 1056 2328 \nQ 1056 1369 1301 889 \nQ 1547 409 2034 409 \nQ 2525 409 2770 889 \nQ 3016 1369 3016 2328 \nQ 3016 3291 2770 3770 \nQ 2525 4250 2034 4250 \nz\nM 2034 4750 \nQ 2819 4750 3233 4129 \nQ 3647 3509 3647 2328 \nQ 3647 1150 3233 529 \nQ 2819 -91 2034 -91 \nQ 1250 -91 836 529 \nQ 422 1150 422 2328 \nQ 422 3509 836 4129 \nQ 1250 4750 2034 4750 \nz\n\" id=\"DejaVuSans-30\" transform=\"scale(0.015625)\"/>\n       </defs>\n       <use xlink:href=\"#DejaVuSans-2212\"/>\n       <use x=\"83.789062\" xlink:href=\"#DejaVuSans-31\"/>\n       <use x=\"147.412109\" xlink:href=\"#DejaVuSans-30\"/>\n       <use x=\"211.035156\" xlink:href=\"#DejaVuSans-30\"/>\n      </g>\n     </g>\n    </g>\n    <g id=\"xtick_2\">\n     <g id=\"line2d_2\">\n      <g>\n       <use style=\"stroke:#000000;stroke-width:0.8;\" x=\"89.344762\" xlink:href=\"#m28f23ed902\" y=\"224.64\"/>\n      </g>\n     </g>\n     <g id=\"text_2\">\n      <!-- −75 -->\n      <g transform=\"translate(78.792418 239.238437)scale(0.1 -0.1)\">\n       <defs>\n        <path d=\"M 525 4666 \nL 3525 4666 \nL 3525 4397 \nL 1831 0 \nL 1172 0 \nL 2766 4134 \nL 525 4134 \nL 525 4666 \nz\n\" id=\"DejaVuSans-37\" transform=\"scale(0.015625)\"/>\n        <path d=\"M 691 4666 \nL 3169 4666 \nL 3169 4134 \nL 1269 4134 \nL 1269 2991 \nQ 1406 3038 1543 3061 \nQ 1681 3084 1819 3084 \nQ 2600 3084 3056 2656 \nQ 3513 2228 3513 1497 \nQ 3513 744 3044 326 \nQ 2575 -91 1722 -91 \nQ 1428 -91 1123 -41 \nQ 819 9 494 109 \nL 494 744 \nQ 775 591 1075 516 \nQ 1375 441 1709 441 \nQ 2250 441 2565 725 \nQ 2881 1009 2881 1497 \nQ 2881 1984 2565 2268 \nQ 2250 2553 1709 2553 \nQ 1456 2553 1204 2497 \nQ 953 2441 691 2322 \nL 691 4666 \nz\n\" id=\"DejaVuSans-35\" transform=\"scale(0.015625)\"/>\n       </defs>\n       <use xlink:href=\"#DejaVuSans-2212\"/>\n       <use x=\"83.789062\" xlink:href=\"#DejaVuSans-37\"/>\n       <use x=\"147.412109\" xlink:href=\"#DejaVuSans-35\"/>\n      </g>\n     </g>\n    </g>\n    <g id=\"xtick_3\">\n     <g id=\"line2d_3\">\n      <g>\n       <use style=\"stroke:#000000;stroke-width:0.8;\" x=\"128.166654\" xlink:href=\"#m28f23ed902\" y=\"224.64\"/>\n      </g>\n     </g>\n     <g id=\"text_3\">\n      <!-- −50 -->\n      <g transform=\"translate(117.61431 239.238437)scale(0.1 -0.1)\">\n       <use xlink:href=\"#DejaVuSans-2212\"/>\n       <use x=\"83.789062\" xlink:href=\"#DejaVuSans-35\"/>\n       <use x=\"147.412109\" xlink:href=\"#DejaVuSans-30\"/>\n      </g>\n     </g>\n    </g>\n    <g id=\"xtick_4\">\n     <g id=\"line2d_4\">\n      <g>\n       <use style=\"stroke:#000000;stroke-width:0.8;\" x=\"166.988546\" xlink:href=\"#m28f23ed902\" y=\"224.64\"/>\n      </g>\n     </g>\n     <g id=\"text_4\">\n      <!-- −25 -->\n      <g transform=\"translate(156.436203 239.238437)scale(0.1 -0.1)\">\n       <defs>\n        <path d=\"M 1228 531 \nL 3431 531 \nL 3431 0 \nL 469 0 \nL 469 531 \nQ 828 903 1448 1529 \nQ 2069 2156 2228 2338 \nQ 2531 2678 2651 2914 \nQ 2772 3150 2772 3378 \nQ 2772 3750 2511 3984 \nQ 2250 4219 1831 4219 \nQ 1534 4219 1204 4116 \nQ 875 4013 500 3803 \nL 500 4441 \nQ 881 4594 1212 4672 \nQ 1544 4750 1819 4750 \nQ 2544 4750 2975 4387 \nQ 3406 4025 3406 3419 \nQ 3406 3131 3298 2873 \nQ 3191 2616 2906 2266 \nQ 2828 2175 2409 1742 \nQ 1991 1309 1228 531 \nz\n\" id=\"DejaVuSans-32\" transform=\"scale(0.015625)\"/>\n       </defs>\n       <use xlink:href=\"#DejaVuSans-2212\"/>\n       <use x=\"83.789062\" xlink:href=\"#DejaVuSans-32\"/>\n       <use x=\"147.412109\" xlink:href=\"#DejaVuSans-35\"/>\n      </g>\n     </g>\n    </g>\n    <g id=\"xtick_5\">\n     <g id=\"line2d_5\">\n      <g>\n       <use style=\"stroke:#000000;stroke-width:0.8;\" x=\"205.810439\" xlink:href=\"#m28f23ed902\" y=\"224.64\"/>\n      </g>\n     </g>\n     <g id=\"text_5\">\n      <!-- 0 -->\n      <g transform=\"translate(202.629189 239.238437)scale(0.1 -0.1)\">\n       <use xlink:href=\"#DejaVuSans-30\"/>\n      </g>\n     </g>\n    </g>\n    <g id=\"xtick_6\">\n     <g id=\"line2d_6\">\n      <g>\n       <use style=\"stroke:#000000;stroke-width:0.8;\" x=\"244.632331\" xlink:href=\"#m28f23ed902\" y=\"224.64\"/>\n      </g>\n     </g>\n     <g id=\"text_6\">\n      <!-- 25 -->\n      <g transform=\"translate(238.269831 239.238437)scale(0.1 -0.1)\">\n       <use xlink:href=\"#DejaVuSans-32\"/>\n       <use x=\"63.623047\" xlink:href=\"#DejaVuSans-35\"/>\n      </g>\n     </g>\n    </g>\n    <g id=\"xtick_7\">\n     <g id=\"line2d_7\">\n      <g>\n       <use style=\"stroke:#000000;stroke-width:0.8;\" x=\"283.454224\" xlink:href=\"#m28f23ed902\" y=\"224.64\"/>\n      </g>\n     </g>\n     <g id=\"text_7\">\n      <!-- 50 -->\n      <g transform=\"translate(277.091724 239.238437)scale(0.1 -0.1)\">\n       <use xlink:href=\"#DejaVuSans-35\"/>\n       <use x=\"63.623047\" xlink:href=\"#DejaVuSans-30\"/>\n      </g>\n     </g>\n    </g>\n    <g id=\"xtick_8\">\n     <g id=\"line2d_8\">\n      <g>\n       <use style=\"stroke:#000000;stroke-width:0.8;\" x=\"322.276116\" xlink:href=\"#m28f23ed902\" y=\"224.64\"/>\n      </g>\n     </g>\n     <g id=\"text_8\">\n      <!-- 75 -->\n      <g transform=\"translate(315.913616 239.238437)scale(0.1 -0.1)\">\n       <use xlink:href=\"#DejaVuSans-37\"/>\n       <use x=\"63.623047\" xlink:href=\"#DejaVuSans-35\"/>\n      </g>\n     </g>\n    </g>\n    <g id=\"xtick_9\">\n     <g id=\"line2d_9\">\n      <g>\n       <use style=\"stroke:#000000;stroke-width:0.8;\" x=\"361.098008\" xlink:href=\"#m28f23ed902\" y=\"224.64\"/>\n      </g>\n     </g>\n     <g id=\"text_9\">\n      <!-- 100 -->\n      <g transform=\"translate(351.554258 239.238437)scale(0.1 -0.1)\">\n       <use xlink:href=\"#DejaVuSans-31\"/>\n       <use x=\"63.623047\" xlink:href=\"#DejaVuSans-30\"/>\n       <use x=\"127.246094\" xlink:href=\"#DejaVuSans-30\"/>\n      </g>\n     </g>\n    </g>\n   </g>\n   <g id=\"matplotlib.axis_2\">\n    <g id=\"ytick_1\">\n     <g id=\"line2d_10\">\n      <defs>\n       <path d=\"M 0 0 \nL -3.5 0 \n\" id=\"m76779b7b24\" style=\"stroke:#000000;stroke-width:0.8;\"/>\n      </defs>\n      <g>\n       <use style=\"stroke:#000000;stroke-width:0.8;\" x=\"35.304688\" xlink:href=\"#m76779b7b24\" y=\"199.628349\"/>\n      </g>\n     </g>\n     <g id=\"text_10\">\n      <!-- −75 -->\n      <g transform=\"translate(7.2 203.427568)scale(0.1 -0.1)\">\n       <use xlink:href=\"#DejaVuSans-2212\"/>\n       <use x=\"83.789062\" xlink:href=\"#DejaVuSans-37\"/>\n       <use x=\"147.412109\" xlink:href=\"#DejaVuSans-35\"/>\n      </g>\n     </g>\n    </g>\n    <g id=\"ytick_2\">\n     <g id=\"line2d_11\">\n      <g>\n       <use style=\"stroke:#000000;stroke-width:0.8;\" x=\"35.304688\" xlink:href=\"#m76779b7b24\" y=\"174.414991\"/>\n      </g>\n     </g>\n     <g id=\"text_11\">\n      <!-- −50 -->\n      <g transform=\"translate(7.2 178.214209)scale(0.1 -0.1)\">\n       <use xlink:href=\"#DejaVuSans-2212\"/>\n       <use x=\"83.789062\" xlink:href=\"#DejaVuSans-35\"/>\n       <use x=\"147.412109\" xlink:href=\"#DejaVuSans-30\"/>\n      </g>\n     </g>\n    </g>\n    <g id=\"ytick_3\">\n     <g id=\"line2d_12\">\n      <g>\n       <use style=\"stroke:#000000;stroke-width:0.8;\" x=\"35.304688\" xlink:href=\"#m76779b7b24\" y=\"149.201633\"/>\n      </g>\n     </g>\n     <g id=\"text_12\">\n      <!-- −25 -->\n      <g transform=\"translate(7.2 153.000851)scale(0.1 -0.1)\">\n       <use xlink:href=\"#DejaVuSans-2212\"/>\n       <use x=\"83.789062\" xlink:href=\"#DejaVuSans-32\"/>\n       <use x=\"147.412109\" xlink:href=\"#DejaVuSans-35\"/>\n      </g>\n     </g>\n    </g>\n    <g id=\"ytick_4\">\n     <g id=\"line2d_13\">\n      <g>\n       <use style=\"stroke:#000000;stroke-width:0.8;\" x=\"35.304688\" xlink:href=\"#m76779b7b24\" y=\"123.988275\"/>\n      </g>\n     </g>\n     <g id=\"text_13\">\n      <!-- 0 -->\n      <g transform=\"translate(21.942188 127.787493)scale(0.1 -0.1)\">\n       <use xlink:href=\"#DejaVuSans-30\"/>\n      </g>\n     </g>\n    </g>\n    <g id=\"ytick_5\">\n     <g id=\"line2d_14\">\n      <g>\n       <use style=\"stroke:#000000;stroke-width:0.8;\" x=\"35.304688\" xlink:href=\"#m76779b7b24\" y=\"98.774917\"/>\n      </g>\n     </g>\n     <g id=\"text_14\">\n      <!-- 25 -->\n      <g transform=\"translate(15.579688 102.574135)scale(0.1 -0.1)\">\n       <use xlink:href=\"#DejaVuSans-32\"/>\n       <use x=\"63.623047\" xlink:href=\"#DejaVuSans-35\"/>\n      </g>\n     </g>\n    </g>\n    <g id=\"ytick_6\">\n     <g id=\"line2d_15\">\n      <g>\n       <use style=\"stroke:#000000;stroke-width:0.8;\" x=\"35.304688\" xlink:href=\"#m76779b7b24\" y=\"73.561558\"/>\n      </g>\n     </g>\n     <g id=\"text_15\">\n      <!-- 50 -->\n      <g transform=\"translate(15.579688 77.360777)scale(0.1 -0.1)\">\n       <use xlink:href=\"#DejaVuSans-35\"/>\n       <use x=\"63.623047\" xlink:href=\"#DejaVuSans-30\"/>\n      </g>\n     </g>\n    </g>\n    <g id=\"ytick_7\">\n     <g id=\"line2d_16\">\n      <g>\n       <use style=\"stroke:#000000;stroke-width:0.8;\" x=\"35.304688\" xlink:href=\"#m76779b7b24\" y=\"48.3482\"/>\n      </g>\n     </g>\n     <g id=\"text_16\">\n      <!-- 75 -->\n      <g transform=\"translate(15.579688 52.147419)scale(0.1 -0.1)\">\n       <use xlink:href=\"#DejaVuSans-37\"/>\n       <use x=\"63.623047\" xlink:href=\"#DejaVuSans-35\"/>\n      </g>\n     </g>\n    </g>\n    <g id=\"ytick_8\">\n     <g id=\"line2d_17\">\n      <g>\n       <use style=\"stroke:#000000;stroke-width:0.8;\" x=\"35.304688\" xlink:href=\"#m76779b7b24\" y=\"23.134842\"/>\n      </g>\n     </g>\n     <g id=\"text_17\">\n      <!-- 100 -->\n      <g transform=\"translate(9.217188 26.934061)scale(0.1 -0.1)\">\n       <use xlink:href=\"#DejaVuSans-31\"/>\n       <use x=\"63.623047\" xlink:href=\"#DejaVuSans-30\"/>\n       <use x=\"127.246094\" xlink:href=\"#DejaVuSans-30\"/>\n      </g>\n     </g>\n    </g>\n   </g>\n   <g id=\"patch_3\">\n    <path d=\"M 35.304688 224.64 \nL 35.304688 7.2 \n\" style=\"fill:none;stroke:#000000;stroke-linecap:square;stroke-linejoin:miter;stroke-width:0.8;\"/>\n   </g>\n   <g id=\"patch_4\">\n    <path d=\"M 370.104688 224.64 \nL 370.104688 7.2 \n\" style=\"fill:none;stroke:#000000;stroke-linecap:square;stroke-linejoin:miter;stroke-width:0.8;\"/>\n   </g>\n   <g id=\"patch_5\">\n    <path d=\"M 35.304688 224.64 \nL 370.104688 224.64 \n\" style=\"fill:none;stroke:#000000;stroke-linecap:square;stroke-linejoin:miter;stroke-width:0.8;\"/>\n   </g>\n   <g id=\"patch_6\">\n    <path d=\"M 35.304688 7.2 \nL 370.104688 7.2 \n\" style=\"fill:none;stroke:#000000;stroke-linecap:square;stroke-linejoin:miter;stroke-width:0.8;\"/>\n   </g>\n  </g>\n </g>\n <defs>\n  <clipPath id=\"pb3a834340c\">\n   <rect height=\"217.44\" width=\"334.8\" x=\"35.304688\" y=\"7.2\"/>\n  </clipPath>\n </defs>\n</svg>\n",
      "image/png": "[encoded data removed]"
     },
     "metadata": {
      "needs_background": "light"
     }
    }
   ],
   "source": [
    "# Make a bigger dataset\n",
    "X = tf.range(-100, 100, 4)\n",
    "\n",
    "# Make bigger label set\n",
    "y = X + 10\n",
    "\n",
    "plt.scatter(X, y);"
   ]
  },
  {
   "cell_type": "code",
   "execution_count": 141,
   "metadata": {},
   "outputs": [],
   "source": [
    "X_train = X[:40] # 80 Percent of data\n",
    "X_test = X[40:] # The last 20 percent of data\n",
    "\n",
    "y_train = y[:40]\n",
    "y_test = y[40:]"
   ]
  },
  {
   "source": [
    "## Visualizing the data"
   ],
   "cell_type": "markdown",
   "metadata": {}
  },
  {
   "cell_type": "code",
   "execution_count": 142,
   "metadata": {},
   "outputs": [
    {
     "output_type": "display_data",
     "data": {
      "text/plain": "<Figure size 720x504 with 1 Axes>",
      "image/svg+xml": "<?xml version=\"1.0\" encoding=\"utf-8\" standalone=\"no\"?>\n<!DOCTYPE svg PUBLIC \"-//W3C//DTD SVG 1.1//EN\"\n  \"http://www.w3.org/Graphics/SVG/1.1/DTD/svg11.dtd\">\n<svg height=\"411.598125pt\" version=\"1.1\" viewBox=\"0 0 600.504688 411.598125\" width=\"600.504688pt\" xmlns=\"http://www.w3.org/2000/svg\" xmlns:xlink=\"http://www.w3.org/1999/xlink\">\n <metadata>\n  <rdf:RDF xmlns:cc=\"http://creativecommons.org/ns#\" xmlns:dc=\"http://purl.org/dc/elements/1.1/\" xmlns:rdf=\"http://www.w3.org/1999/02/22-rdf-syntax-ns#\">\n   <cc:Work>\n    <dc:type rdf:resource=\"http://purl.org/dc/dcmitype/StillImage\"/>\n    <dc:date>2021-05-14T11:47:01.690762</dc:date>\n    <dc:format>image/svg+xml</dc:format>\n    <dc:creator>\n     <cc:Agent>\n      <dc:title>Matplotlib v3.4.2, https://matplotlib.org/</dc:title>\n     </cc:Agent>\n    </dc:creator>\n   </cc:Work>\n  </rdf:RDF>\n </metadata>\n <defs>\n  <style type=\"text/css\">*{stroke-linecap:butt;stroke-linejoin:round;}</style>\n </defs>\n <g id=\"figure_1\">\n  <g id=\"patch_1\">\n   <path d=\"M 0 411.598125 \nL 600.504688 411.598125 \nL 600.504688 0 \nL 0 0 \nz\n\" style=\"fill:none;\"/>\n  </g>\n  <g id=\"axes_1\">\n   <g id=\"patch_2\">\n    <path d=\"M 35.304688 387.72 \nL 593.304688 387.72 \nL 593.304688 7.2 \nL 35.304688 7.2 \nz\n\" style=\"fill:#ffffff;\"/>\n   </g>\n   <g id=\"PathCollection_1\">\n    <defs>\n     <path d=\"M 0 3 \nC 0.795609 3 1.55874 2.683901 2.12132 2.12132 \nC 2.683901 1.55874 3 0.795609 3 0 \nC 3 -0.795609 2.683901 -1.55874 2.12132 -2.12132 \nC 1.55874 -2.683901 0.795609 -3 0 -3 \nC -0.795609 -3 -1.55874 -2.683901 -2.12132 -2.12132 \nC -2.683901 -1.55874 -3 -0.795609 -3 0 \nC -3 0.795609 -2.683901 1.55874 -2.12132 2.12132 \nC -1.55874 2.683901 -0.795609 3 0 3 \nz\n\" id=\"m13e78fafb6\" style=\"stroke:#0000ff;\"/>\n    </defs>\n    <g clip-path=\"url(#p91a0ffcb38)\">\n     <use style=\"fill:#0000ff;stroke:#0000ff;\" x=\"60.668324\" xlink:href=\"#m13e78fafb6\" y=\"370.423636\"/>\n     <use style=\"fill:#0000ff;stroke:#0000ff;\" x=\"71.020829\" xlink:href=\"#m13e78fafb6\" y=\"363.363896\"/>\n     <use style=\"fill:#0000ff;stroke:#0000ff;\" x=\"81.373333\" xlink:href=\"#m13e78fafb6\" y=\"356.304156\"/>\n     <use style=\"fill:#0000ff;stroke:#0000ff;\" x=\"91.725838\" xlink:href=\"#m13e78fafb6\" y=\"349.244416\"/>\n     <use style=\"fill:#0000ff;stroke:#0000ff;\" x=\"102.078342\" xlink:href=\"#m13e78fafb6\" y=\"342.184675\"/>\n     <use style=\"fill:#0000ff;stroke:#0000ff;\" x=\"112.430847\" xlink:href=\"#m13e78fafb6\" y=\"335.124935\"/>\n     <use style=\"fill:#0000ff;stroke:#0000ff;\" x=\"122.783352\" xlink:href=\"#m13e78fafb6\" y=\"328.065195\"/>\n     <use style=\"fill:#0000ff;stroke:#0000ff;\" x=\"133.135856\" xlink:href=\"#m13e78fafb6\" y=\"321.005455\"/>\n     <use style=\"fill:#0000ff;stroke:#0000ff;\" x=\"143.488361\" xlink:href=\"#m13e78fafb6\" y=\"313.945714\"/>\n     <use style=\"fill:#0000ff;stroke:#0000ff;\" x=\"153.840866\" xlink:href=\"#m13e78fafb6\" y=\"306.885974\"/>\n     <use style=\"fill:#0000ff;stroke:#0000ff;\" x=\"164.19337\" xlink:href=\"#m13e78fafb6\" y=\"299.826234\"/>\n     <use style=\"fill:#0000ff;stroke:#0000ff;\" x=\"174.545875\" xlink:href=\"#m13e78fafb6\" y=\"292.766494\"/>\n     <use style=\"fill:#0000ff;stroke:#0000ff;\" x=\"184.89838\" xlink:href=\"#m13e78fafb6\" y=\"285.706753\"/>\n     <use style=\"fill:#0000ff;stroke:#0000ff;\" x=\"195.250884\" xlink:href=\"#m13e78fafb6\" y=\"278.647013\"/>\n     <use style=\"fill:#0000ff;stroke:#0000ff;\" x=\"205.603389\" xlink:href=\"#m13e78fafb6\" y=\"271.587273\"/>\n     <use style=\"fill:#0000ff;stroke:#0000ff;\" x=\"215.955893\" xlink:href=\"#m13e78fafb6\" y=\"264.527532\"/>\n     <use style=\"fill:#0000ff;stroke:#0000ff;\" x=\"226.308398\" xlink:href=\"#m13e78fafb6\" y=\"257.467792\"/>\n     <use style=\"fill:#0000ff;stroke:#0000ff;\" x=\"236.660903\" xlink:href=\"#m13e78fafb6\" y=\"250.408052\"/>\n     <use style=\"fill:#0000ff;stroke:#0000ff;\" x=\"247.013407\" xlink:href=\"#m13e78fafb6\" y=\"243.348312\"/>\n     <use style=\"fill:#0000ff;stroke:#0000ff;\" x=\"257.365912\" xlink:href=\"#m13e78fafb6\" y=\"236.288571\"/>\n     <use style=\"fill:#0000ff;stroke:#0000ff;\" x=\"267.718417\" xlink:href=\"#m13e78fafb6\" y=\"229.228831\"/>\n     <use style=\"fill:#0000ff;stroke:#0000ff;\" x=\"278.070921\" xlink:href=\"#m13e78fafb6\" y=\"222.169091\"/>\n     <use style=\"fill:#0000ff;stroke:#0000ff;\" x=\"288.423426\" xlink:href=\"#m13e78fafb6\" y=\"215.109351\"/>\n     <use style=\"fill:#0000ff;stroke:#0000ff;\" x=\"298.775931\" xlink:href=\"#m13e78fafb6\" y=\"208.04961\"/>\n     <use style=\"fill:#0000ff;stroke:#0000ff;\" x=\"309.128435\" xlink:href=\"#m13e78fafb6\" y=\"200.98987\"/>\n     <use style=\"fill:#0000ff;stroke:#0000ff;\" x=\"319.48094\" xlink:href=\"#m13e78fafb6\" y=\"193.93013\"/>\n     <use style=\"fill:#0000ff;stroke:#0000ff;\" x=\"329.833444\" xlink:href=\"#m13e78fafb6\" y=\"186.87039\"/>\n     <use style=\"fill:#0000ff;stroke:#0000ff;\" x=\"340.185949\" xlink:href=\"#m13e78fafb6\" y=\"179.810649\"/>\n     <use style=\"fill:#0000ff;stroke:#0000ff;\" x=\"350.538454\" xlink:href=\"#m13e78fafb6\" y=\"172.750909\"/>\n     <use style=\"fill:#0000ff;stroke:#0000ff;\" x=\"360.890958\" xlink:href=\"#m13e78fafb6\" y=\"165.691169\"/>\n     <use style=\"fill:#0000ff;stroke:#0000ff;\" x=\"371.243463\" xlink:href=\"#m13e78fafb6\" y=\"158.631429\"/>\n     <use style=\"fill:#0000ff;stroke:#0000ff;\" x=\"381.595968\" xlink:href=\"#m13e78fafb6\" y=\"151.571688\"/>\n     <use style=\"fill:#0000ff;stroke:#0000ff;\" x=\"391.948472\" xlink:href=\"#m13e78fafb6\" y=\"144.511948\"/>\n     <use style=\"fill:#0000ff;stroke:#0000ff;\" x=\"402.300977\" xlink:href=\"#m13e78fafb6\" y=\"137.452208\"/>\n     <use style=\"fill:#0000ff;stroke:#0000ff;\" x=\"412.653482\" xlink:href=\"#m13e78fafb6\" y=\"130.392468\"/>\n     <use style=\"fill:#0000ff;stroke:#0000ff;\" x=\"423.005986\" xlink:href=\"#m13e78fafb6\" y=\"123.332727\"/>\n     <use style=\"fill:#0000ff;stroke:#0000ff;\" x=\"433.358491\" xlink:href=\"#m13e78fafb6\" y=\"116.272987\"/>\n     <use style=\"fill:#0000ff;stroke:#0000ff;\" x=\"443.710995\" xlink:href=\"#m13e78fafb6\" y=\"109.213247\"/>\n     <use style=\"fill:#0000ff;stroke:#0000ff;\" x=\"454.0635\" xlink:href=\"#m13e78fafb6\" y=\"102.153506\"/>\n     <use style=\"fill:#0000ff;stroke:#0000ff;\" x=\"464.416005\" xlink:href=\"#m13e78fafb6\" y=\"95.093766\"/>\n    </g>\n   </g>\n   <g id=\"PathCollection_2\">\n    <defs>\n     <path d=\"M 0 3 \nC 0.795609 3 1.55874 2.683901 2.12132 2.12132 \nC 2.683901 1.55874 3 0.795609 3 0 \nC 3 -0.795609 2.683901 -1.55874 2.12132 -2.12132 \nC 1.55874 -2.683901 0.795609 -3 0 -3 \nC -0.795609 -3 -1.55874 -2.683901 -2.12132 -2.12132 \nC -2.683901 -1.55874 -3 -0.795609 -3 0 \nC -3 0.795609 -2.683901 1.55874 -2.12132 2.12132 \nC -1.55874 2.683901 -0.795609 3 0 3 \nz\n\" id=\"md52e6ae3f5\" style=\"stroke:#008000;\"/>\n    </defs>\n    <g clip-path=\"url(#p91a0ffcb38)\">\n     <use style=\"fill:#008000;stroke:#008000;\" x=\"474.768509\" xlink:href=\"#md52e6ae3f5\" y=\"88.034026\"/>\n     <use style=\"fill:#008000;stroke:#008000;\" x=\"485.121014\" xlink:href=\"#md52e6ae3f5\" y=\"80.974286\"/>\n     <use style=\"fill:#008000;stroke:#008000;\" x=\"495.473519\" xlink:href=\"#md52e6ae3f5\" y=\"73.914545\"/>\n     <use style=\"fill:#008000;stroke:#008000;\" x=\"505.826023\" xlink:href=\"#md52e6ae3f5\" y=\"66.854805\"/>\n     <use style=\"fill:#008000;stroke:#008000;\" x=\"516.178528\" xlink:href=\"#md52e6ae3f5\" y=\"59.795065\"/>\n     <use style=\"fill:#008000;stroke:#008000;\" x=\"526.531033\" xlink:href=\"#md52e6ae3f5\" y=\"52.735325\"/>\n     <use style=\"fill:#008000;stroke:#008000;\" x=\"536.883537\" xlink:href=\"#md52e6ae3f5\" y=\"45.675584\"/>\n     <use style=\"fill:#008000;stroke:#008000;\" x=\"547.236042\" xlink:href=\"#md52e6ae3f5\" y=\"38.615844\"/>\n     <use style=\"fill:#008000;stroke:#008000;\" x=\"557.588546\" xlink:href=\"#md52e6ae3f5\" y=\"31.556104\"/>\n     <use style=\"fill:#008000;stroke:#008000;\" x=\"567.941051\" xlink:href=\"#md52e6ae3f5\" y=\"24.496364\"/>\n    </g>\n   </g>\n   <g id=\"matplotlib.axis_1\">\n    <g id=\"xtick_1\">\n     <g id=\"line2d_1\">\n      <defs>\n       <path d=\"M 0 0 \nL 0 3.5 \n\" id=\"m69daadefc3\" style=\"stroke:#000000;stroke-width:0.8;\"/>\n      </defs>\n      <g>\n       <use style=\"stroke:#000000;stroke-width:0.8;\" x=\"60.668324\" xlink:href=\"#m69daadefc3\" y=\"387.72\"/>\n      </g>\n     </g>\n     <g id=\"text_1\">\n      <!-- −100 -->\n      <g transform=\"translate(46.93473 402.318437)scale(0.1 -0.1)\">\n       <defs>\n        <path d=\"M 678 2272 \nL 4684 2272 \nL 4684 1741 \nL 678 1741 \nL 678 2272 \nz\n\" id=\"DejaVuSans-2212\" transform=\"scale(0.015625)\"/>\n        <path d=\"M 794 531 \nL 1825 531 \nL 1825 4091 \nL 703 3866 \nL 703 4441 \nL 1819 4666 \nL 2450 4666 \nL 2450 531 \nL 3481 531 \nL 3481 0 \nL 794 0 \nL 794 531 \nz\n\" id=\"DejaVuSans-31\" transform=\"scale(0.015625)\"/>\n        <path d=\"M 2034 4250 \nQ 1547 4250 1301 3770 \nQ 1056 3291 1056 2328 \nQ 1056 1369 1301 889 \nQ 1547 409 2034 409 \nQ 2525 409 2770 889 \nQ 3016 1369 3016 2328 \nQ 3016 3291 2770 3770 \nQ 2525 4250 2034 4250 \nz\nM 2034 4750 \nQ 2819 4750 3233 4129 \nQ 3647 3509 3647 2328 \nQ 3647 1150 3233 529 \nQ 2819 -91 2034 -91 \nQ 1250 -91 836 529 \nQ 422 1150 422 2328 \nQ 422 3509 836 4129 \nQ 1250 4750 2034 4750 \nz\n\" id=\"DejaVuSans-30\" transform=\"scale(0.015625)\"/>\n       </defs>\n       <use xlink:href=\"#DejaVuSans-2212\"/>\n       <use x=\"83.789062\" xlink:href=\"#DejaVuSans-31\"/>\n       <use x=\"147.412109\" xlink:href=\"#DejaVuSans-30\"/>\n       <use x=\"211.035156\" xlink:href=\"#DejaVuSans-30\"/>\n      </g>\n     </g>\n    </g>\n    <g id=\"xtick_2\">\n     <g id=\"line2d_2\">\n      <g>\n       <use style=\"stroke:#000000;stroke-width:0.8;\" x=\"125.371478\" xlink:href=\"#m69daadefc3\" y=\"387.72\"/>\n      </g>\n     </g>\n     <g id=\"text_2\">\n      <!-- −75 -->\n      <g transform=\"translate(114.819134 402.318437)scale(0.1 -0.1)\">\n       <defs>\n        <path d=\"M 525 4666 \nL 3525 4666 \nL 3525 4397 \nL 1831 0 \nL 1172 0 \nL 2766 4134 \nL 525 4134 \nL 525 4666 \nz\n\" id=\"DejaVuSans-37\" transform=\"scale(0.015625)\"/>\n        <path d=\"M 691 4666 \nL 3169 4666 \nL 3169 4134 \nL 1269 4134 \nL 1269 2991 \nQ 1406 3038 1543 3061 \nQ 1681 3084 1819 3084 \nQ 2600 3084 3056 2656 \nQ 3513 2228 3513 1497 \nQ 3513 744 3044 326 \nQ 2575 -91 1722 -91 \nQ 1428 -91 1123 -41 \nQ 819 9 494 109 \nL 494 744 \nQ 775 591 1075 516 \nQ 1375 441 1709 441 \nQ 2250 441 2565 725 \nQ 2881 1009 2881 1497 \nQ 2881 1984 2565 2268 \nQ 2250 2553 1709 2553 \nQ 1456 2553 1204 2497 \nQ 953 2441 691 2322 \nL 691 4666 \nz\n\" id=\"DejaVuSans-35\" transform=\"scale(0.015625)\"/>\n       </defs>\n       <use xlink:href=\"#DejaVuSans-2212\"/>\n       <use x=\"83.789062\" xlink:href=\"#DejaVuSans-37\"/>\n       <use x=\"147.412109\" xlink:href=\"#DejaVuSans-35\"/>\n      </g>\n     </g>\n    </g>\n    <g id=\"xtick_3\">\n     <g id=\"line2d_3\">\n      <g>\n       <use style=\"stroke:#000000;stroke-width:0.8;\" x=\"190.074632\" xlink:href=\"#m69daadefc3\" y=\"387.72\"/>\n      </g>\n     </g>\n     <g id=\"text_3\">\n      <!-- −50 -->\n      <g transform=\"translate(179.522288 402.318437)scale(0.1 -0.1)\">\n       <use xlink:href=\"#DejaVuSans-2212\"/>\n       <use x=\"83.789062\" xlink:href=\"#DejaVuSans-35\"/>\n       <use x=\"147.412109\" xlink:href=\"#DejaVuSans-30\"/>\n      </g>\n     </g>\n    </g>\n    <g id=\"xtick_4\">\n     <g id=\"line2d_4\">\n      <g>\n       <use style=\"stroke:#000000;stroke-width:0.8;\" x=\"254.777786\" xlink:href=\"#m69daadefc3\" y=\"387.72\"/>\n      </g>\n     </g>\n     <g id=\"text_4\">\n      <!-- −25 -->\n      <g transform=\"translate(244.225442 402.318437)scale(0.1 -0.1)\">\n       <defs>\n        <path d=\"M 1228 531 \nL 3431 531 \nL 3431 0 \nL 469 0 \nL 469 531 \nQ 828 903 1448 1529 \nQ 2069 2156 2228 2338 \nQ 2531 2678 2651 2914 \nQ 2772 3150 2772 3378 \nQ 2772 3750 2511 3984 \nQ 2250 4219 1831 4219 \nQ 1534 4219 1204 4116 \nQ 875 4013 500 3803 \nL 500 4441 \nQ 881 4594 1212 4672 \nQ 1544 4750 1819 4750 \nQ 2544 4750 2975 4387 \nQ 3406 4025 3406 3419 \nQ 3406 3131 3298 2873 \nQ 3191 2616 2906 2266 \nQ 2828 2175 2409 1742 \nQ 1991 1309 1228 531 \nz\n\" id=\"DejaVuSans-32\" transform=\"scale(0.015625)\"/>\n       </defs>\n       <use xlink:href=\"#DejaVuSans-2212\"/>\n       <use x=\"83.789062\" xlink:href=\"#DejaVuSans-32\"/>\n       <use x=\"147.412109\" xlink:href=\"#DejaVuSans-35\"/>\n      </g>\n     </g>\n    </g>\n    <g id=\"xtick_5\">\n     <g id=\"line2d_5\">\n      <g>\n       <use style=\"stroke:#000000;stroke-width:0.8;\" x=\"319.48094\" xlink:href=\"#m69daadefc3\" y=\"387.72\"/>\n      </g>\n     </g>\n     <g id=\"text_5\">\n      <!-- 0 -->\n      <g transform=\"translate(316.29969 402.318437)scale(0.1 -0.1)\">\n       <use xlink:href=\"#DejaVuSans-30\"/>\n      </g>\n     </g>\n    </g>\n    <g id=\"xtick_6\">\n     <g id=\"line2d_6\">\n      <g>\n       <use style=\"stroke:#000000;stroke-width:0.8;\" x=\"384.184094\" xlink:href=\"#m69daadefc3\" y=\"387.72\"/>\n      </g>\n     </g>\n     <g id=\"text_6\">\n      <!-- 25 -->\n      <g transform=\"translate(377.821594 402.318437)scale(0.1 -0.1)\">\n       <use xlink:href=\"#DejaVuSans-32\"/>\n       <use x=\"63.623047\" xlink:href=\"#DejaVuSans-35\"/>\n      </g>\n     </g>\n    </g>\n    <g id=\"xtick_7\">\n     <g id=\"line2d_7\">\n      <g>\n       <use style=\"stroke:#000000;stroke-width:0.8;\" x=\"448.887248\" xlink:href=\"#m69daadefc3\" y=\"387.72\"/>\n      </g>\n     </g>\n     <g id=\"text_7\">\n      <!-- 50 -->\n      <g transform=\"translate(442.524748 402.318437)scale(0.1 -0.1)\">\n       <use xlink:href=\"#DejaVuSans-35\"/>\n       <use x=\"63.623047\" xlink:href=\"#DejaVuSans-30\"/>\n      </g>\n     </g>\n    </g>\n    <g id=\"xtick_8\">\n     <g id=\"line2d_8\">\n      <g>\n       <use style=\"stroke:#000000;stroke-width:0.8;\" x=\"513.590402\" xlink:href=\"#m69daadefc3\" y=\"387.72\"/>\n      </g>\n     </g>\n     <g id=\"text_8\">\n      <!-- 75 -->\n      <g transform=\"translate(507.227902 402.318437)scale(0.1 -0.1)\">\n       <use xlink:href=\"#DejaVuSans-37\"/>\n       <use x=\"63.623047\" xlink:href=\"#DejaVuSans-35\"/>\n      </g>\n     </g>\n    </g>\n    <g id=\"xtick_9\">\n     <g id=\"line2d_9\">\n      <g>\n       <use style=\"stroke:#000000;stroke-width:0.8;\" x=\"578.293556\" xlink:href=\"#m69daadefc3\" y=\"387.72\"/>\n      </g>\n     </g>\n     <g id=\"text_9\">\n      <!-- 100 -->\n      <g transform=\"translate(568.749806 402.318437)scale(0.1 -0.1)\">\n       <use xlink:href=\"#DejaVuSans-31\"/>\n       <use x=\"63.623047\" xlink:href=\"#DejaVuSans-30\"/>\n       <use x=\"127.246094\" xlink:href=\"#DejaVuSans-30\"/>\n      </g>\n     </g>\n    </g>\n   </g>\n   <g id=\"matplotlib.axis_2\">\n    <g id=\"ytick_1\">\n     <g id=\"line2d_10\">\n      <defs>\n       <path d=\"M 0 0 \nL -3.5 0 \n\" id=\"m9be4e3bcc1\" style=\"stroke:#000000;stroke-width:0.8;\"/>\n      </defs>\n      <g>\n       <use style=\"stroke:#000000;stroke-width:0.8;\" x=\"35.304688\" xlink:href=\"#m9be4e3bcc1\" y=\"343.94961\"/>\n      </g>\n     </g>\n     <g id=\"text_10\">\n      <!-- −75 -->\n      <g transform=\"translate(7.2 347.748829)scale(0.1 -0.1)\">\n       <use xlink:href=\"#DejaVuSans-2212\"/>\n       <use x=\"83.789062\" xlink:href=\"#DejaVuSans-37\"/>\n       <use x=\"147.412109\" xlink:href=\"#DejaVuSans-35\"/>\n      </g>\n     </g>\n    </g>\n    <g id=\"ytick_2\">\n     <g id=\"line2d_11\">\n      <g>\n       <use style=\"stroke:#000000;stroke-width:0.8;\" x=\"35.304688\" xlink:href=\"#m9be4e3bcc1\" y=\"299.826234\"/>\n      </g>\n     </g>\n     <g id=\"text_11\">\n      <!-- −50 -->\n      <g transform=\"translate(7.2 303.625453)scale(0.1 -0.1)\">\n       <use xlink:href=\"#DejaVuSans-2212\"/>\n       <use x=\"83.789062\" xlink:href=\"#DejaVuSans-35\"/>\n       <use x=\"147.412109\" xlink:href=\"#DejaVuSans-30\"/>\n      </g>\n     </g>\n    </g>\n    <g id=\"ytick_3\">\n     <g id=\"line2d_12\">\n      <g>\n       <use style=\"stroke:#000000;stroke-width:0.8;\" x=\"35.304688\" xlink:href=\"#m9be4e3bcc1\" y=\"255.702857\"/>\n      </g>\n     </g>\n     <g id=\"text_12\">\n      <!-- −25 -->\n      <g transform=\"translate(7.2 259.502076)scale(0.1 -0.1)\">\n       <use xlink:href=\"#DejaVuSans-2212\"/>\n       <use x=\"83.789062\" xlink:href=\"#DejaVuSans-32\"/>\n       <use x=\"147.412109\" xlink:href=\"#DejaVuSans-35\"/>\n      </g>\n     </g>\n    </g>\n    <g id=\"ytick_4\">\n     <g id=\"line2d_13\">\n      <g>\n       <use style=\"stroke:#000000;stroke-width:0.8;\" x=\"35.304688\" xlink:href=\"#m9be4e3bcc1\" y=\"211.579481\"/>\n      </g>\n     </g>\n     <g id=\"text_13\">\n      <!-- 0 -->\n      <g transform=\"translate(21.942187 215.378699)scale(0.1 -0.1)\">\n       <use xlink:href=\"#DejaVuSans-30\"/>\n      </g>\n     </g>\n    </g>\n    <g id=\"ytick_5\">\n     <g id=\"line2d_14\">\n      <g>\n       <use style=\"stroke:#000000;stroke-width:0.8;\" x=\"35.304688\" xlink:href=\"#m9be4e3bcc1\" y=\"167.456104\"/>\n      </g>\n     </g>\n     <g id=\"text_14\">\n      <!-- 25 -->\n      <g transform=\"translate(15.579687 171.255323)scale(0.1 -0.1)\">\n       <use xlink:href=\"#DejaVuSans-32\"/>\n       <use x=\"63.623047\" xlink:href=\"#DejaVuSans-35\"/>\n      </g>\n     </g>\n    </g>\n    <g id=\"ytick_6\">\n     <g id=\"line2d_15\">\n      <g>\n       <use style=\"stroke:#000000;stroke-width:0.8;\" x=\"35.304688\" xlink:href=\"#m9be4e3bcc1\" y=\"123.332727\"/>\n      </g>\n     </g>\n     <g id=\"text_15\">\n      <!-- 50 -->\n      <g transform=\"translate(15.579687 127.131946)scale(0.1 -0.1)\">\n       <use xlink:href=\"#DejaVuSans-35\"/>\n       <use x=\"63.623047\" xlink:href=\"#DejaVuSans-30\"/>\n      </g>\n     </g>\n    </g>\n    <g id=\"ytick_7\">\n     <g id=\"line2d_16\">\n      <g>\n       <use style=\"stroke:#000000;stroke-width:0.8;\" x=\"35.304688\" xlink:href=\"#m9be4e3bcc1\" y=\"79.209351\"/>\n      </g>\n     </g>\n     <g id=\"text_16\">\n      <!-- 75 -->\n      <g transform=\"translate(15.579687 83.008569)scale(0.1 -0.1)\">\n       <use xlink:href=\"#DejaVuSans-37\"/>\n       <use x=\"63.623047\" xlink:href=\"#DejaVuSans-35\"/>\n      </g>\n     </g>\n    </g>\n    <g id=\"ytick_8\">\n     <g id=\"line2d_17\">\n      <g>\n       <use style=\"stroke:#000000;stroke-width:0.8;\" x=\"35.304688\" xlink:href=\"#m9be4e3bcc1\" y=\"35.085974\"/>\n      </g>\n     </g>\n     <g id=\"text_17\">\n      <!-- 100 -->\n      <g transform=\"translate(9.217187 38.885193)scale(0.1 -0.1)\">\n       <use xlink:href=\"#DejaVuSans-31\"/>\n       <use x=\"63.623047\" xlink:href=\"#DejaVuSans-30\"/>\n       <use x=\"127.246094\" xlink:href=\"#DejaVuSans-30\"/>\n      </g>\n     </g>\n    </g>\n   </g>\n   <g id=\"patch_3\">\n    <path d=\"M 35.304688 387.72 \nL 35.304688 7.2 \n\" style=\"fill:none;stroke:#000000;stroke-linecap:square;stroke-linejoin:miter;stroke-width:0.8;\"/>\n   </g>\n   <g id=\"patch_4\">\n    <path d=\"M 593.304688 387.72 \nL 593.304688 7.2 \n\" style=\"fill:none;stroke:#000000;stroke-linecap:square;stroke-linejoin:miter;stroke-width:0.8;\"/>\n   </g>\n   <g id=\"patch_5\">\n    <path d=\"M 35.304688 387.72 \nL 593.304688 387.72 \n\" style=\"fill:none;stroke:#000000;stroke-linecap:square;stroke-linejoin:miter;stroke-width:0.8;\"/>\n   </g>\n   <g id=\"patch_6\">\n    <path d=\"M 35.304688 7.2 \nL 593.304688 7.2 \n\" style=\"fill:none;stroke:#000000;stroke-linecap:square;stroke-linejoin:miter;stroke-width:0.8;\"/>\n   </g>\n   <g id=\"legend_1\">\n    <g id=\"patch_7\">\n     <path d=\"M 42.304688 44.55625 \nL 140.810938 44.55625 \nQ 142.810938 44.55625 142.810938 42.55625 \nL 142.810938 14.2 \nQ 142.810938 12.2 140.810938 12.2 \nL 42.304688 12.2 \nQ 40.304688 12.2 40.304688 14.2 \nL 40.304688 42.55625 \nQ 40.304688 44.55625 42.304688 44.55625 \nz\n\" style=\"fill:#ffffff;opacity:0.8;stroke:#cccccc;stroke-linejoin:miter;\"/>\n    </g>\n    <g id=\"PathCollection_3\">\n     <g>\n      <use style=\"fill:#0000ff;stroke:#0000ff;\" x=\"54.304688\" xlink:href=\"#m13e78fafb6\" y=\"21.173437\"/>\n     </g>\n    </g>\n    <g id=\"text_18\">\n     <!-- Training Data -->\n     <g transform=\"translate(72.304688 23.798437)scale(0.1 -0.1)\">\n      <defs>\n       <path d=\"M -19 4666 \nL 3928 4666 \nL 3928 4134 \nL 2272 4134 \nL 2272 0 \nL 1638 0 \nL 1638 4134 \nL -19 4134 \nL -19 4666 \nz\n\" id=\"DejaVuSans-54\" transform=\"scale(0.015625)\"/>\n       <path d=\"M 2631 2963 \nQ 2534 3019 2420 3045 \nQ 2306 3072 2169 3072 \nQ 1681 3072 1420 2755 \nQ 1159 2438 1159 1844 \nL 1159 0 \nL 581 0 \nL 581 3500 \nL 1159 3500 \nL 1159 2956 \nQ 1341 3275 1631 3429 \nQ 1922 3584 2338 3584 \nQ 2397 3584 2469 3576 \nQ 2541 3569 2628 3553 \nL 2631 2963 \nz\n\" id=\"DejaVuSans-72\" transform=\"scale(0.015625)\"/>\n       <path d=\"M 2194 1759 \nQ 1497 1759 1228 1600 \nQ 959 1441 959 1056 \nQ 959 750 1161 570 \nQ 1363 391 1709 391 \nQ 2188 391 2477 730 \nQ 2766 1069 2766 1631 \nL 2766 1759 \nL 2194 1759 \nz\nM 3341 1997 \nL 3341 0 \nL 2766 0 \nL 2766 531 \nQ 2569 213 2275 61 \nQ 1981 -91 1556 -91 \nQ 1019 -91 701 211 \nQ 384 513 384 1019 \nQ 384 1609 779 1909 \nQ 1175 2209 1959 2209 \nL 2766 2209 \nL 2766 2266 \nQ 2766 2663 2505 2880 \nQ 2244 3097 1772 3097 \nQ 1472 3097 1187 3025 \nQ 903 2953 641 2809 \nL 641 3341 \nQ 956 3463 1253 3523 \nQ 1550 3584 1831 3584 \nQ 2591 3584 2966 3190 \nQ 3341 2797 3341 1997 \nz\n\" id=\"DejaVuSans-61\" transform=\"scale(0.015625)\"/>\n       <path d=\"M 603 3500 \nL 1178 3500 \nL 1178 0 \nL 603 0 \nL 603 3500 \nz\nM 603 4863 \nL 1178 4863 \nL 1178 4134 \nL 603 4134 \nL 603 4863 \nz\n\" id=\"DejaVuSans-69\" transform=\"scale(0.015625)\"/>\n       <path d=\"M 3513 2113 \nL 3513 0 \nL 2938 0 \nL 2938 2094 \nQ 2938 2591 2744 2837 \nQ 2550 3084 2163 3084 \nQ 1697 3084 1428 2787 \nQ 1159 2491 1159 1978 \nL 1159 0 \nL 581 0 \nL 581 3500 \nL 1159 3500 \nL 1159 2956 \nQ 1366 3272 1645 3428 \nQ 1925 3584 2291 3584 \nQ 2894 3584 3203 3211 \nQ 3513 2838 3513 2113 \nz\n\" id=\"DejaVuSans-6e\" transform=\"scale(0.015625)\"/>\n       <path d=\"M 2906 1791 \nQ 2906 2416 2648 2759 \nQ 2391 3103 1925 3103 \nQ 1463 3103 1205 2759 \nQ 947 2416 947 1791 \nQ 947 1169 1205 825 \nQ 1463 481 1925 481 \nQ 2391 481 2648 825 \nQ 2906 1169 2906 1791 \nz\nM 3481 434 \nQ 3481 -459 3084 -895 \nQ 2688 -1331 1869 -1331 \nQ 1566 -1331 1297 -1286 \nQ 1028 -1241 775 -1147 \nL 775 -588 \nQ 1028 -725 1275 -790 \nQ 1522 -856 1778 -856 \nQ 2344 -856 2625 -561 \nQ 2906 -266 2906 331 \nL 2906 616 \nQ 2728 306 2450 153 \nQ 2172 0 1784 0 \nQ 1141 0 747 490 \nQ 353 981 353 1791 \nQ 353 2603 747 3093 \nQ 1141 3584 1784 3584 \nQ 2172 3584 2450 3431 \nQ 2728 3278 2906 2969 \nL 2906 3500 \nL 3481 3500 \nL 3481 434 \nz\n\" id=\"DejaVuSans-67\" transform=\"scale(0.015625)\"/>\n       <path id=\"DejaVuSans-20\" transform=\"scale(0.015625)\"/>\n       <path d=\"M 1259 4147 \nL 1259 519 \nL 2022 519 \nQ 2988 519 3436 956 \nQ 3884 1394 3884 2338 \nQ 3884 3275 3436 3711 \nQ 2988 4147 2022 4147 \nL 1259 4147 \nz\nM 628 4666 \nL 1925 4666 \nQ 3281 4666 3915 4102 \nQ 4550 3538 4550 2338 \nQ 4550 1131 3912 565 \nQ 3275 0 1925 0 \nL 628 0 \nL 628 4666 \nz\n\" id=\"DejaVuSans-44\" transform=\"scale(0.015625)\"/>\n       <path d=\"M 1172 4494 \nL 1172 3500 \nL 2356 3500 \nL 2356 3053 \nL 1172 3053 \nL 1172 1153 \nQ 1172 725 1289 603 \nQ 1406 481 1766 481 \nL 2356 481 \nL 2356 0 \nL 1766 0 \nQ 1100 0 847 248 \nQ 594 497 594 1153 \nL 594 3053 \nL 172 3053 \nL 172 3500 \nL 594 3500 \nL 594 4494 \nL 1172 4494 \nz\n\" id=\"DejaVuSans-74\" transform=\"scale(0.015625)\"/>\n      </defs>\n      <use xlink:href=\"#DejaVuSans-54\"/>\n      <use x=\"46.333984\" xlink:href=\"#DejaVuSans-72\"/>\n      <use x=\"87.447266\" xlink:href=\"#DejaVuSans-61\"/>\n      <use x=\"148.726562\" xlink:href=\"#DejaVuSans-69\"/>\n      <use x=\"176.509766\" xlink:href=\"#DejaVuSans-6e\"/>\n      <use x=\"239.888672\" xlink:href=\"#DejaVuSans-69\"/>\n      <use x=\"267.671875\" xlink:href=\"#DejaVuSans-6e\"/>\n      <use x=\"331.050781\" xlink:href=\"#DejaVuSans-67\"/>\n      <use x=\"394.527344\" xlink:href=\"#DejaVuSans-20\"/>\n      <use x=\"426.314453\" xlink:href=\"#DejaVuSans-44\"/>\n      <use x=\"503.316406\" xlink:href=\"#DejaVuSans-61\"/>\n      <use x=\"564.595703\" xlink:href=\"#DejaVuSans-74\"/>\n      <use x=\"603.804688\" xlink:href=\"#DejaVuSans-61\"/>\n     </g>\n    </g>\n    <g id=\"PathCollection_4\">\n     <g>\n      <use style=\"fill:#008000;stroke:#008000;\" x=\"54.304688\" xlink:href=\"#md52e6ae3f5\" y=\"35.851562\"/>\n     </g>\n    </g>\n    <g id=\"text_19\">\n     <!-- Testing Data -->\n     <g transform=\"translate(72.304688 38.476562)scale(0.1 -0.1)\">\n      <defs>\n       <path d=\"M 3597 1894 \nL 3597 1613 \nL 953 1613 \nQ 991 1019 1311 708 \nQ 1631 397 2203 397 \nQ 2534 397 2845 478 \nQ 3156 559 3463 722 \nL 3463 178 \nQ 3153 47 2828 -22 \nQ 2503 -91 2169 -91 \nQ 1331 -91 842 396 \nQ 353 884 353 1716 \nQ 353 2575 817 3079 \nQ 1281 3584 2069 3584 \nQ 2775 3584 3186 3129 \nQ 3597 2675 3597 1894 \nz\nM 3022 2063 \nQ 3016 2534 2758 2815 \nQ 2500 3097 2075 3097 \nQ 1594 3097 1305 2825 \nQ 1016 2553 972 2059 \nL 3022 2063 \nz\n\" id=\"DejaVuSans-65\" transform=\"scale(0.015625)\"/>\n       <path d=\"M 2834 3397 \nL 2834 2853 \nQ 2591 2978 2328 3040 \nQ 2066 3103 1784 3103 \nQ 1356 3103 1142 2972 \nQ 928 2841 928 2578 \nQ 928 2378 1081 2264 \nQ 1234 2150 1697 2047 \nL 1894 2003 \nQ 2506 1872 2764 1633 \nQ 3022 1394 3022 966 \nQ 3022 478 2636 193 \nQ 2250 -91 1575 -91 \nQ 1294 -91 989 -36 \nQ 684 19 347 128 \nL 347 722 \nQ 666 556 975 473 \nQ 1284 391 1588 391 \nQ 1994 391 2212 530 \nQ 2431 669 2431 922 \nQ 2431 1156 2273 1281 \nQ 2116 1406 1581 1522 \nL 1381 1569 \nQ 847 1681 609 1914 \nQ 372 2147 372 2553 \nQ 372 3047 722 3315 \nQ 1072 3584 1716 3584 \nQ 2034 3584 2315 3537 \nQ 2597 3491 2834 3397 \nz\n\" id=\"DejaVuSans-73\" transform=\"scale(0.015625)\"/>\n      </defs>\n      <use xlink:href=\"#DejaVuSans-54\"/>\n      <use x=\"44.083984\" xlink:href=\"#DejaVuSans-65\"/>\n      <use x=\"105.607422\" xlink:href=\"#DejaVuSans-73\"/>\n      <use x=\"157.707031\" xlink:href=\"#DejaVuSans-74\"/>\n      <use x=\"196.916016\" xlink:href=\"#DejaVuSans-69\"/>\n      <use x=\"224.699219\" xlink:href=\"#DejaVuSans-6e\"/>\n      <use x=\"288.078125\" xlink:href=\"#DejaVuSans-67\"/>\n      <use x=\"351.554688\" xlink:href=\"#DejaVuSans-20\"/>\n      <use x=\"383.341797\" xlink:href=\"#DejaVuSans-44\"/>\n      <use x=\"460.34375\" xlink:href=\"#DejaVuSans-61\"/>\n      <use x=\"521.623047\" xlink:href=\"#DejaVuSans-74\"/>\n      <use x=\"560.832031\" xlink:href=\"#DejaVuSans-61\"/>\n     </g>\n    </g>\n   </g>\n  </g>\n </g>\n <defs>\n  <clipPath id=\"p91a0ffcb38\">\n   <rect height=\"380.52\" width=\"558\" x=\"35.304688\" y=\"7.2\"/>\n  </clipPath>\n </defs>\n</svg>\n",
      "image/png": "[encoded data removed]"
     },
     "metadata": {
      "needs_background": "light"
     }
    }
   ],
   "source": [
    "plt.figure(figsize=(10, 7))\n",
    "\n",
    "# Training Data = blue, Testing Data = Green\n",
    "plt.scatter(X_train, y_train, c=\"b\", label=\"Training Data\")\n",
    "plt.scatter(X_test, y_test, c=\"g\", label=\"Testing Data\")\n",
    "\n",
    "# Show Legend\n",
    "plt.legend();"
   ]
  },
  {
   "cell_type": "code",
   "execution_count": 143,
   "metadata": {},
   "outputs": [],
   "source": [
    "# 1. Creating a model\n",
    "model = tf.keras.Sequential([\n",
    "    tf.keras.layers.Dense(1, input_shape=[1])\n",
    "])\n",
    "\n",
    "# 2. Compiling the model\n",
    "model.compile(\n",
    "    loss=tf.keras.losses.mae,\n",
    "    optimizer=tf.keras.optimizers.SGD(),\n",
    "    metrics=[\"mae\"]\n",
    ")"
   ]
  },
  {
   "source": [
    "## Visualizing the model"
   ],
   "cell_type": "markdown",
   "metadata": {}
  },
  {
   "cell_type": "code",
   "execution_count": 144,
   "metadata": {},
   "outputs": [
    {
     "output_type": "stream",
     "name": "stdout",
     "text": [
      "Model: \"sequential_32\"\n_________________________________________________________________\nLayer (type)                 Output Shape              Param #   \n=================================================================\ndense_59 (Dense)             (None, 1)                 2         \n=================================================================\nTotal params: 2\nTrainable params: 2\nNon-trainable params: 0\n_________________________________________________________________\n"
     ]
    }
   ],
   "source": [
    "model.summary()"
   ]
  },
  {
   "cell_type": "code",
   "execution_count": 145,
   "metadata": {},
   "outputs": [
    {
     "output_type": "execute_result",
     "data": {
      "text/plain": [
       "<tensorflow.python.keras.callbacks.History at 0x14b6e69a0>"
      ]
     },
     "metadata": {},
     "execution_count": 145
    }
   ],
   "source": [
    "# 3. Train the model\n",
    "model.fit(X_train, y_train, epochs=100, verbose=0)"
   ]
  },
  {
   "cell_type": "code",
   "execution_count": 156,
   "metadata": {},
   "outputs": [
    {
     "output_type": "execute_result",
     "data": {
      "text/plain": [
       "array([[56.562923],\n",
       "       [60.246662],\n",
       "       [63.9304  ],\n",
       "       [67.61414 ],\n",
       "       [71.297874],\n",
       "       [74.98161 ],\n",
       "       [78.66535 ],\n",
       "       [82.34908 ],\n",
       "       [86.03282 ],\n",
       "       [89.71656 ]], dtype=float32)"
      ]
     },
     "metadata": {},
     "execution_count": 156
    }
   ],
   "source": [
    "y_prediction = model.predict(X_test)\n",
    "\n",
    "y_prediction"
   ]
  },
  {
   "cell_type": "code",
   "execution_count": 163,
   "metadata": {},
   "outputs": [],
   "source": [
    "# Plotting Function\n",
    "def plot_predictions(train_data=X_train, train_labels=y_train, test_data=X_test, test_labels=y_test, predictions=y_prediction):\n",
    "    # Set Figure Size.\n",
    "    plt.figure(figsize=(10, 7))\n",
    "\n",
    "    # Set axis for Training data.\n",
    "    plt.scatter(train_data, train_labels, c=\"b\", label=\"Training Data\")\n",
    "\n",
    "    # Set axis for Testing data.\n",
    "    plt.scatter(test_data, test_labels, c=\"g\", label=\"Testing Data\")\n",
    "\n",
    "    # Set axis of the predictions.\n",
    "    plt.scatter(test_data, predictions, c=\"r\", label=\"Predictions\")\n",
    "\n",
    "    # Show Legend on generated plot.\n",
    "    plt.legend();"
   ]
  },
  {
   "cell_type": "code",
   "execution_count": 164,
   "metadata": {},
   "outputs": [
    {
     "output_type": "stream",
     "name": "stderr",
     "text": [
      "<ipython-input-163-0e940447678d>:7: RuntimeWarning: More than 20 figures have been opened. Figures created through the pyplot interface (`matplotlib.pyplot.figure`) are retained until explicitly closed and may consume too much memory. (To control this warning, see the rcParam `figure.max_open_warning`).\n  plt.figure(figsize=(10, 7))\n"
     ]
    },
    {
     "output_type": "error",
     "ename": "RecursionError",
     "evalue": "maximum recursion depth exceeded while calling a Python object",
     "traceback": [
      "\u001b[0;31m---------------------------------------------------------------------------\u001b[0m",
      "\u001b[0;31mRecursionError\u001b[0m                            Traceback (most recent call last)",
      "\u001b[0;32m<ipython-input-164-48fab58fa37f>\u001b[0m in \u001b[0;36m<module>\u001b[0;34m\u001b[0m\n\u001b[0;32m----> 1\u001b[0;31m \u001b[0mplot_predictions\u001b[0m\u001b[0;34m(\u001b[0m\u001b[0;34m)\u001b[0m\u001b[0;34m\u001b[0m\u001b[0;34m\u001b[0m\u001b[0m\n\u001b[0m",
      "\u001b[0;32m<ipython-input-163-0e940447678d>\u001b[0m in \u001b[0;36mplot_predictions\u001b[0;34m(train_data, train_labels, test_data, test_labels, predictions)\u001b[0m\n\u001b[1;32m     14\u001b[0m     \u001b[0mplt\u001b[0m\u001b[0;34m.\u001b[0m\u001b[0mlegend\u001b[0m\u001b[0;34m(\u001b[0m\u001b[0;34m)\u001b[0m\u001b[0;34m;\u001b[0m\u001b[0;34m\u001b[0m\u001b[0;34m\u001b[0m\u001b[0m\n\u001b[1;32m     15\u001b[0m \u001b[0;34m\u001b[0m\u001b[0m\n\u001b[0;32m---> 16\u001b[0;31m     \u001b[0mplot_predictions\u001b[0m\u001b[0;34m(\u001b[0m\u001b[0;34m)\u001b[0m\u001b[0;34m\u001b[0m\u001b[0;34m\u001b[0m\u001b[0m\n\u001b[0m\u001b[1;32m     17\u001b[0m \u001b[0;34m\u001b[0m\u001b[0m\n",
      "... last 1 frames repeated, from the frame below ...\n",
      "\u001b[0;32m<ipython-input-163-0e940447678d>\u001b[0m in \u001b[0;36mplot_predictions\u001b[0;34m(train_data, train_labels, test_data, test_labels, predictions)\u001b[0m\n\u001b[1;32m     14\u001b[0m     \u001b[0mplt\u001b[0m\u001b[0;34m.\u001b[0m\u001b[0mlegend\u001b[0m\u001b[0;34m(\u001b[0m\u001b[0;34m)\u001b[0m\u001b[0;34m;\u001b[0m\u001b[0;34m\u001b[0m\u001b[0;34m\u001b[0m\u001b[0m\n\u001b[1;32m     15\u001b[0m \u001b[0;34m\u001b[0m\u001b[0m\n\u001b[0;32m---> 16\u001b[0;31m     \u001b[0mplot_predictions\u001b[0m\u001b[0;34m(\u001b[0m\u001b[0;34m)\u001b[0m\u001b[0;34m\u001b[0m\u001b[0;34m\u001b[0m\u001b[0m\n\u001b[0m\u001b[1;32m     17\u001b[0m \u001b[0;34m\u001b[0m\u001b[0m\n",
      "\u001b[0;31mRecursionError\u001b[0m: maximum recursion depth exceeded while calling a Python object"
     ]
    }
   ],
   "source": [
    "    plot_predictions()"
   ]
  },
  {
   "cell_type": "code",
   "execution_count": null,
   "metadata": {},
   "outputs": [],
   "source": []
  }
 ]
}