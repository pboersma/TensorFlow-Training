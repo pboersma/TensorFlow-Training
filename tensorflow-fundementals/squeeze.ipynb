{
 "metadata": {
  "language_info": {
   "codemirror_mode": {
    "name": "ipython",
    "version": 3
   },
   "file_extension": ".py",
   "mimetype": "text/x-python",
   "name": "python",
   "nbconvert_exporter": "python",
   "pygments_lexer": "ipython3",
   "version": "3.8.2"
  },
  "orig_nbformat": 2,
  "kernelspec": {
   "name": "python382jvsc74a57bd031f2aee4e71d21fbe5cf8b01ff0e069b9275f58929596ceb00d14d90e3e16cd6",
   "display_name": "Python 3.8.2 64-bit"
  },
  "metadata": {
   "interpreter": {
    "hash": "31f2aee4e71d21fbe5cf8b01ff0e069b9275f58929596ceb00d14d90e3e16cd6"
   }
  }
 },
 "nbformat": 4,
 "nbformat_minor": 2,
 "cells": [
  {
   "source": [
    "# Squeezing Tensors"
   ],
   "cell_type": "markdown",
   "metadata": {}
  },
  {
   "cell_type": "code",
   "execution_count": 12,
   "metadata": {},
   "outputs": [],
   "source": [
    "import tensorflow as tf\n",
    "\n",
    "# Set Seed\n",
    "tf.random.set_seed(42)"
   ]
  },
  {
   "cell_type": "code",
   "execution_count": 11,
   "metadata": {},
   "outputs": [
    {
     "output_type": "execute_result",
     "data": {
      "text/plain": [
       "<tf.Tensor: shape=(1, 1, 1, 1, 50), dtype=float32, numpy=\n",
       "array([[[[[0.68346524, 0.63335645, 0.11209059, 0.66795564, 0.19320524,\n",
       "           0.7738247 , 0.30257404, 0.54104376, 0.15997136, 0.86424243,\n",
       "           0.07796359, 0.47208202, 0.7635459 , 0.16621494, 0.8566421 ,\n",
       "           0.6076417 , 0.3988105 , 0.58646846, 0.43992782, 0.78578746,\n",
       "           0.11294258, 0.0522927 , 0.37244356, 0.9440285 , 0.5861299 ,\n",
       "           0.8659171 , 0.89619863, 0.25605762, 0.99150443, 0.6677054 ,\n",
       "           0.34679163, 0.9336711 , 0.2081958 , 0.26547658, 0.9693227 ,\n",
       "           0.6023991 , 0.64630103, 0.49673605, 0.5857309 , 0.59391606,\n",
       "           0.35118365, 0.6889124 , 0.5734278 , 0.50454414, 0.00818479,\n",
       "           0.45328104, 0.1011436 , 0.10269737, 0.40232027, 0.8582916 ]]]]],\n",
       "      dtype=float32)>"
      ]
     },
     "metadata": {},
     "execution_count": 11
    }
   ],
   "source": [
    "x = tf.constant(tf.random.uniform(shape=[50]), shape=(1, 1, 1, 1, 50))\n",
    "x"
   ]
  },
  {
   "cell_type": "code",
   "execution_count": 13,
   "metadata": {},
   "outputs": [
    {
     "output_type": "execute_result",
     "data": {
      "text/plain": [
       "TensorShape([1, 1, 1, 1, 50])"
      ]
     },
     "metadata": {},
     "execution_count": 13
    }
   ],
   "source": [
    "x.shape"
   ]
  },
  {
   "cell_type": "code",
   "execution_count": 21,
   "metadata": {},
   "outputs": [
    {
     "output_type": "execute_result",
     "data": {
      "text/plain": [
       "<tf.Tensor: shape=(50,), dtype=float32, numpy=\n",
       "array([0.68346524, 0.63335645, 0.11209059, 0.66795564, 0.19320524,\n",
       "       0.7738247 , 0.30257404, 0.54104376, 0.15997136, 0.86424243,\n",
       "       0.07796359, 0.47208202, 0.7635459 , 0.16621494, 0.8566421 ,\n",
       "       0.6076417 , 0.3988105 , 0.58646846, 0.43992782, 0.78578746,\n",
       "       0.11294258, 0.0522927 , 0.37244356, 0.9440285 , 0.5861299 ,\n",
       "       0.8659171 , 0.89619863, 0.25605762, 0.99150443, 0.6677054 ,\n",
       "       0.34679163, 0.9336711 , 0.2081958 , 0.26547658, 0.9693227 ,\n",
       "       0.6023991 , 0.64630103, 0.49673605, 0.5857309 , 0.59391606,\n",
       "       0.35118365, 0.6889124 , 0.5734278 , 0.50454414, 0.00818479,\n",
       "       0.45328104, 0.1011436 , 0.10269737, 0.40232027, 0.8582916 ],\n",
       "      dtype=float32)>"
      ]
     },
     "metadata": {},
     "execution_count": 21
    }
   ],
   "source": [
    "\n",
    "x_squeezed = tf.squeeze(x)\n",
    "\n",
    "x_squeezed"
   ]
  }
 ]
}