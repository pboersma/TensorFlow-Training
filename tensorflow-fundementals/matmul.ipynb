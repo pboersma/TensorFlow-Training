{
 "metadata": {
  "language_info": {
   "codemirror_mode": {
    "name": "ipython",
    "version": 3
   },
   "file_extension": ".py",
   "mimetype": "text/x-python",
   "name": "python",
   "nbconvert_exporter": "python",
   "pygments_lexer": "ipython3",
   "version": "3.8.2"
  },
  "orig_nbformat": 2,
  "kernelspec": {
   "name": "python382jvsc74a57bd031f2aee4e71d21fbe5cf8b01ff0e069b9275f58929596ceb00d14d90e3e16cd6",
   "display_name": "Python 3.8.2 64-bit"
  },
  "metadata": {
   "interpreter": {
    "hash": "31f2aee4e71d21fbe5cf8b01ff0e069b9275f58929596ceb00d14d90e3e16cd6"
   }
  }
 },
 "nbformat": 4,
 "nbformat_minor": 2,
 "cells": [
  {
   "source": [
    "# Matrix Multiplication Training from 022-matrix-multiplication"
   ],
   "cell_type": "markdown",
   "metadata": {}
  },
  {
   "source": [
    "Use `tf.linalg.matmul`, `tf.matmul` or `tf.tensordot` to Matrix Multiply Tensors"
   ],
   "cell_type": "markdown",
   "metadata": {}
  },
  {
   "cell_type": "code",
   "execution_count": 7,
   "metadata": {},
   "outputs": [
    {
     "output_type": "execute_result",
     "data": {
      "text/plain": [
       "<tf.Tensor: shape=(3, 2), dtype=int32, numpy=\n",
       "array([[20, 59],\n",
       "       [34, 57],\n",
       "       [30, 60]], dtype=int32)>"
      ]
     },
     "metadata": {},
     "execution_count": 7
    }
   ],
   "source": [
    "import tensorflow as tf\n",
    "\n",
    "# Tensor 3-dimensional (3, 3)\n",
    "tf_1 = tf.constant([[1,2,5],\n",
    "                    [7,2,1],\n",
    "                    [3,3,3]])\n",
    "\n",
    "# Tensor 2-diminsional (2, 3)\n",
    "tf_2 = tf.constant([[3,5],\n",
    "                    [6,7],\n",
    "                    [1,8]])\n",
    "\n",
    "# Matrix Multiplication\n",
    "tf.linalg.matmul(tf_1, tf_2)\n"
   ]
  },
  {
   "source": [
    "## What happens to Matmul if tensors are the same shape?"
   ],
   "cell_type": "markdown",
   "metadata": {}
  },
  {
   "cell_type": "code",
   "execution_count": 13,
   "metadata": {},
   "outputs": [
    {
     "output_type": "stream",
     "name": "stdout",
     "text": [
      "Transpose Matmul Result: tf.Tensor(\n[[48 78]\n [21 48]], shape=(2, 2), dtype=int32) \n\nReshape Matmul Result: tf.Tensor(\n[[22 75]\n [27 55]], shape=(2, 2), dtype=int32) \n\n"
     ]
    }
   ],
   "source": [
    "# Tensor 2-dimensional (3, 2)\n",
    "tf_1 = tf.constant([[1,2],\n",
    "                    [7,2],\n",
    "                    [3,3]])\n",
    "\n",
    "# Throws: Matrix size-incompatible\n",
    "# tf.linalg.matmul(tf_1, tf_2)\n",
    "\n",
    "# Use Transpose to make it compatible with matmul (Flips Axis)\n",
    "print(\"Transpose Matmul Result: %s \\n\" % (tf.linalg.matmul(tf.transpose(tf_1), tf_2)))\n",
    "\n",
    "# Use Reshape to shape the tensor (Gives different results to transposing)\n",
    "print(\"Reshape Matmul Result: %s \\n\" % (tf.linalg.matmul(tf.reshape(tf_1, [2, 3]), tf_2)) )"
   ]
  }
 ]
}