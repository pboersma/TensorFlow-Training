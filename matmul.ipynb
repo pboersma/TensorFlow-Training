{
 "metadata": {
  "language_info": {
   "codemirror_mode": {
    "name": "ipython",
    "version": 3
   },
   "file_extension": ".py",
   "mimetype": "text/x-python",
   "name": "python",
   "nbconvert_exporter": "python",
   "pygments_lexer": "ipython3",
   "version": "3.8.2"
  },
  "orig_nbformat": 2,
  "kernelspec": {
   "name": "python382jvsc74a57bd031f2aee4e71d21fbe5cf8b01ff0e069b9275f58929596ceb00d14d90e3e16cd6",
   "display_name": "Python 3.8.2 64-bit"
  },
  "metadata": {
   "interpreter": {
    "hash": "31f2aee4e71d21fbe5cf8b01ff0e069b9275f58929596ceb00d14d90e3e16cd6"
   }
  }
 },
 "nbformat": 4,
 "nbformat_minor": 2,
 "cells": [
  {
   "source": [
    "### Matrix Multiplication Training from 022-matrix-multiplication"
   ],
   "cell_type": "markdown",
   "metadata": {}
  },
  {
   "cell_type": "code",
   "execution_count": 5,
   "metadata": {},
   "outputs": [
    {
     "output_type": "execute_result",
     "data": {
      "text/plain": [
       "<tf.Tensor: shape=(2, 3), dtype=int32, numpy=\n",
       "array([[3, 6, 1],\n",
       "       [5, 7, 8]], dtype=int32)>"
      ]
     },
     "metadata": {},
     "execution_count": 5
    }
   ],
   "source": [
    "import tensorflow as tf\n",
    "\n",
    "# Tensor 3-dimensional (3, 3)\n",
    "tf_1 = tf.constant([[1,2,5],\n",
    "                    [7,2,1],\n",
    "                    [3,3,3]])\n",
    "\n",
    "# Tensor 2-diminsional (2, 3)\n",
    "tf_2 = tf.constant([[3,5],\n",
    "                    [6,7],\n",
    "                    [1,8]])\n",
    "# tf.transpose(tf_2)\n",
    "# Matrix Multiplication\n",
    "tf_3 = tf.linalg.matmul(tf_1, tf.transpose(tf_2))\n"
   ]
  },
  {
   "source": [],
   "cell_type": "markdown",
   "metadata": {}
  }
 ]
}